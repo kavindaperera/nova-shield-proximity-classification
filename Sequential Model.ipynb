{
 "cells": [
  {
   "cell_type": "markdown",
   "metadata": {},
   "source": [
    "# Using BLE RSSI Values to Classify Proximity with Deep Neural Networks"
   ]
  },
  {
   "cell_type": "markdown",
   "metadata": {},
   "source": [
    " "
   ]
  },
  {
   "cell_type": "code",
   "execution_count": 1,
   "metadata": {},
   "outputs": [],
   "source": [
    "import numpy as np\n",
    "import pandas as pd\n",
    "from random import randint\n",
    "from sklearn.utils import shuffle\n",
    "from sklearn.preprocessing import MinMaxScaler\n",
    "import visualkeras\n",
    "import matplotlib.pyplot as plt"
   ]
  },
  {
   "cell_type": "code",
   "execution_count": 2,
   "metadata": {},
   "outputs": [],
   "source": [
    "model_name = '1denselayers_hiddenlayersize128'\n",
    "hidden_layer_size = 128"
   ]
  },
  {
   "cell_type": "code",
   "execution_count": 3,
   "metadata": {},
   "outputs": [],
   "source": [
    "df = pd.read_csv(\"rssi_dataset_3.csv\")"
   ]
  },
  {
   "cell_type": "code",
   "execution_count": 4,
   "metadata": {},
   "outputs": [
    {
     "data": {
      "text/html": [
       "<div>\n",
       "<style scoped>\n",
       "    .dataframe tbody tr th:only-of-type {\n",
       "        vertical-align: middle;\n",
       "    }\n",
       "\n",
       "    .dataframe tbody tr th {\n",
       "        vertical-align: top;\n",
       "    }\n",
       "\n",
       "    .dataframe thead th {\n",
       "        text-align: right;\n",
       "    }\n",
       "</style>\n",
       "<table border=\"1\" class=\"dataframe\">\n",
       "  <thead>\n",
       "    <tr style=\"text-align: right;\">\n",
       "      <th></th>\n",
       "      <th>Unnamed: 0</th>\n",
       "      <th>rssi</th>\n",
       "      <th>target</th>\n",
       "    </tr>\n",
       "  </thead>\n",
       "  <tbody>\n",
       "    <tr>\n",
       "      <th>0</th>\n",
       "      <td>0</td>\n",
       "      <td>-86</td>\n",
       "      <td>0</td>\n",
       "    </tr>\n",
       "    <tr>\n",
       "      <th>1</th>\n",
       "      <td>1</td>\n",
       "      <td>-78</td>\n",
       "      <td>0</td>\n",
       "    </tr>\n",
       "    <tr>\n",
       "      <th>2</th>\n",
       "      <td>2</td>\n",
       "      <td>-70</td>\n",
       "      <td>1</td>\n",
       "    </tr>\n",
       "    <tr>\n",
       "      <th>3</th>\n",
       "      <td>3</td>\n",
       "      <td>-86</td>\n",
       "      <td>0</td>\n",
       "    </tr>\n",
       "    <tr>\n",
       "      <th>4</th>\n",
       "      <td>4</td>\n",
       "      <td>-90</td>\n",
       "      <td>0</td>\n",
       "    </tr>\n",
       "    <tr>\n",
       "      <th>...</th>\n",
       "      <td>...</td>\n",
       "      <td>...</td>\n",
       "      <td>...</td>\n",
       "    </tr>\n",
       "    <tr>\n",
       "      <th>28253</th>\n",
       "      <td>28253</td>\n",
       "      <td>-99</td>\n",
       "      <td>0</td>\n",
       "    </tr>\n",
       "    <tr>\n",
       "      <th>28254</th>\n",
       "      <td>28254</td>\n",
       "      <td>-97</td>\n",
       "      <td>0</td>\n",
       "    </tr>\n",
       "    <tr>\n",
       "      <th>28255</th>\n",
       "      <td>28255</td>\n",
       "      <td>-86</td>\n",
       "      <td>0</td>\n",
       "    </tr>\n",
       "    <tr>\n",
       "      <th>28256</th>\n",
       "      <td>28256</td>\n",
       "      <td>-69</td>\n",
       "      <td>1</td>\n",
       "    </tr>\n",
       "    <tr>\n",
       "      <th>28257</th>\n",
       "      <td>28257</td>\n",
       "      <td>-78</td>\n",
       "      <td>0</td>\n",
       "    </tr>\n",
       "  </tbody>\n",
       "</table>\n",
       "<p>28258 rows × 3 columns</p>\n",
       "</div>"
      ],
      "text/plain": [
       "       Unnamed: 0  rssi  target\n",
       "0               0   -86       0\n",
       "1               1   -78       0\n",
       "2               2   -70       1\n",
       "3               3   -86       0\n",
       "4               4   -90       0\n",
       "...           ...   ...     ...\n",
       "28253       28253   -99       0\n",
       "28254       28254   -97       0\n",
       "28255       28255   -86       0\n",
       "28256       28256   -69       1\n",
       "28257       28257   -78       0\n",
       "\n",
       "[28258 rows x 3 columns]"
      ]
     },
     "execution_count": 4,
     "metadata": {},
     "output_type": "execute_result"
    }
   ],
   "source": [
    "df"
   ]
  },
  {
   "cell_type": "code",
   "execution_count": 5,
   "metadata": {},
   "outputs": [],
   "source": [
    "train_labels = df['target']\n",
    "train_samples = df['rssi']"
   ]
  },
  {
   "cell_type": "code",
   "execution_count": 6,
   "metadata": {},
   "outputs": [],
   "source": [
    "train_labels = np.array(train_labels)\n",
    "train_samples = np.array(train_samples)"
   ]
  },
  {
   "cell_type": "code",
   "execution_count": null,
   "metadata": {},
   "outputs": [],
   "source": []
  },
  {
   "cell_type": "code",
   "execution_count": 7,
   "metadata": {},
   "outputs": [],
   "source": [
    "scaled_train_samples = train_samples.reshape(-1,1)"
   ]
  },
  {
   "cell_type": "code",
   "execution_count": 8,
   "metadata": {},
   "outputs": [
    {
     "name": "stdout",
     "output_type": "stream",
     "text": [
      "[[-86]\n",
      " [-78]\n",
      " [-70]\n",
      " ...\n",
      " [-86]\n",
      " [-69]\n",
      " [-78]]\n"
     ]
    }
   ],
   "source": [
    "print(scaled_train_samples)"
   ]
  },
  {
   "cell_type": "code",
   "execution_count": 9,
   "metadata": {},
   "outputs": [
    {
     "name": "stdout",
     "output_type": "stream",
     "text": [
      "[0 0 1 ... 0 1 0]\n"
     ]
    }
   ],
   "source": [
    "print(train_labels)"
   ]
  },
  {
   "cell_type": "markdown",
   "metadata": {},
   "source": [
    "## Simple tf.keras Sequential Model"
   ]
  },
  {
   "cell_type": "code",
   "execution_count": 10,
   "metadata": {},
   "outputs": [],
   "source": [
    "import tensorflow as tf\n",
    "from tensorflow import keras\n",
    "from tensorflow.keras.models import Sequential\n",
    "from tensorflow.keras.layers import Activation, Dense, Dropout, DenseFeatures\n",
    "from tensorflow.keras.optimizers import Adam\n",
    "from tensorflow.keras.metrics import categorical_crossentropy\n",
    "from tensorflow import lite\n",
    "from keras.utils import plot_model"
   ]
  },
  {
   "cell_type": "code",
   "execution_count": 11,
   "metadata": {},
   "outputs": [
    {
     "name": "stdout",
     "output_type": "stream",
     "text": [
      "Available:  0\n"
     ]
    }
   ],
   "source": [
    "physial_devices = tf.config.experimental.list_physical_devices('GPU')\n",
    "print(\"Available: \", len(physial_devices))"
   ]
  },
  {
   "cell_type": "code",
   "execution_count": 12,
   "metadata": {},
   "outputs": [],
   "source": [
    "model = Sequential([\n",
    "    Dense(units=hidden_layer_size, input_shape=(1,), activation='relu'),\n",
    "    Dropout(rate = 0.1),\n",
    "    Dense(units=2, activation='softmax')\n",
    "])"
   ]
  },
  {
   "cell_type": "code",
   "execution_count": 13,
   "metadata": {},
   "outputs": [
    {
     "name": "stdout",
     "output_type": "stream",
     "text": [
      "Model: \"sequential\"\n",
      "_________________________________________________________________\n",
      "Layer (type)                 Output Shape              Param #   \n",
      "=================================================================\n",
      "dense (Dense)                (None, 128)               256       \n",
      "_________________________________________________________________\n",
      "dropout (Dropout)            (None, 128)               0         \n",
      "_________________________________________________________________\n",
      "dense_1 (Dense)              (None, 2)                 258       \n",
      "=================================================================\n",
      "Total params: 514\n",
      "Trainable params: 514\n",
      "Non-trainable params: 0\n",
      "_________________________________________________________________\n"
     ]
    }
   ],
   "source": [
    "model.summary()"
   ]
  },
  {
   "cell_type": "code",
   "execution_count": 14,
   "metadata": {},
   "outputs": [
    {
     "data": {
      "image/png": "[encoded data removed]",
      "text/plain": [
       "<PIL.Image.Image image mode=RGBA size=107x27 at 0x26FF04ABA30>"
      ]
     },
     "execution_count": 14,
     "metadata": {},
     "output_type": "execute_result"
    }
   ],
   "source": [
    "visualkeras.layered_view(model, to_file= 'visualkeras/' + model_name + '.png')"
   ]
  },
  {
   "cell_type": "code",
   "execution_count": 15,
   "metadata": {},
   "outputs": [],
   "source": [
    "model.compile(optimizer=Adam(learning_rate=0.0001), loss='sparse_categorical_crossentropy', metrics=['accuracy'])"
   ]
  },
  {
   "cell_type": "code",
   "execution_count": 16,
   "metadata": {},
   "outputs": [
    {
     "name": "stdout",
     "output_type": "stream",
     "text": [
      "Epoch 1/75\n",
      "2261/2261 - 2s - loss: 0.9057 - accuracy: 0.7936 - val_loss: 0.4763 - val_accuracy: 0.8691\n",
      "Epoch 2/75\n",
      "2261/2261 - 2s - loss: 0.6380 - accuracy: 0.8058 - val_loss: 0.3812 - val_accuracy: 0.8691\n",
      "Epoch 3/75\n",
      "2261/2261 - 2s - loss: 0.4962 - accuracy: 0.8259 - val_loss: 0.3810 - val_accuracy: 0.8691\n",
      "Epoch 4/75\n",
      "2261/2261 - 1s - loss: 0.4080 - accuracy: 0.8488 - val_loss: 0.3218 - val_accuracy: 0.8691\n",
      "Epoch 5/75\n",
      "2261/2261 - 2s - loss: 0.3603 - accuracy: 0.8594 - val_loss: 0.3101 - val_accuracy: 0.8691\n",
      "Epoch 6/75\n",
      "2261/2261 - 1s - loss: 0.3369 - accuracy: 0.8602 - val_loss: 0.3069 - val_accuracy: 0.8691\n",
      "Epoch 7/75\n",
      "2261/2261 - 1s - loss: 0.3182 - accuracy: 0.8606 - val_loss: 0.2874 - val_accuracy: 0.8691\n",
      "Epoch 8/75\n",
      "2261/2261 - 1s - loss: 0.2972 - accuracy: 0.8607 - val_loss: 0.2741 - val_accuracy: 0.8691\n",
      "Epoch 9/75\n",
      "2261/2261 - 1s - loss: 0.2742 - accuracy: 0.8610 - val_loss: 0.2450 - val_accuracy: 0.8691\n",
      "Epoch 10/75\n",
      "2261/2261 - 1s - loss: 0.2463 - accuracy: 0.8634 - val_loss: 0.2186 - val_accuracy: 0.8691\n",
      "Epoch 11/75\n",
      "2261/2261 - 1s - loss: 0.2152 - accuracy: 0.8774 - val_loss: 0.1868 - val_accuracy: 0.8792\n",
      "Epoch 12/75\n",
      "2261/2261 - 2s - loss: 0.1855 - accuracy: 0.9095 - val_loss: 0.1597 - val_accuracy: 0.9462\n",
      "Epoch 13/75\n",
      "2261/2261 - 1s - loss: 0.1567 - accuracy: 0.9411 - val_loss: 0.1480 - val_accuracy: 0.9956\n",
      "Epoch 14/75\n",
      "2261/2261 - 2s - loss: 0.1317 - accuracy: 0.9658 - val_loss: 0.1136 - val_accuracy: 0.9685\n",
      "Epoch 15/75\n",
      "2261/2261 - 1s - loss: 0.1079 - accuracy: 0.9800 - val_loss: 0.0956 - val_accuracy: 0.9956\n",
      "Epoch 16/75\n",
      "2261/2261 - 1s - loss: 0.0902 - accuracy: 0.9875 - val_loss: 0.0762 - val_accuracy: 0.9956\n",
      "Epoch 17/75\n",
      "2261/2261 - 1s - loss: 0.0752 - accuracy: 0.9910 - val_loss: 0.0624 - val_accuracy: 0.9956\n",
      "Epoch 18/75\n",
      "2261/2261 - 1s - loss: 0.0632 - accuracy: 0.9930 - val_loss: 0.0544 - val_accuracy: 0.9922\n",
      "Epoch 19/75\n",
      "2261/2261 - 1s - loss: 0.0534 - accuracy: 0.9943 - val_loss: 0.0461 - val_accuracy: 0.9956\n",
      "Epoch 20/75\n",
      "2261/2261 - 1s - loss: 0.0464 - accuracy: 0.9959 - val_loss: 0.0418 - val_accuracy: 0.9956\n",
      "Epoch 21/75\n",
      "2261/2261 - 1s - loss: 0.0417 - accuracy: 0.9957 - val_loss: 0.0365 - val_accuracy: 0.9982\n",
      "Epoch 22/75\n",
      "2261/2261 - 1s - loss: 0.0366 - accuracy: 0.9963 - val_loss: 0.0318 - val_accuracy: 0.9956\n",
      "Epoch 23/75\n",
      "2261/2261 - 2s - loss: 0.0325 - accuracy: 0.9962 - val_loss: 0.0308 - val_accuracy: 0.9982\n",
      "Epoch 24/75\n",
      "2261/2261 - 1s - loss: 0.0300 - accuracy: 0.9965 - val_loss: 0.0304 - val_accuracy: 0.9956\n",
      "Epoch 25/75\n",
      "2261/2261 - 1s - loss: 0.0276 - accuracy: 0.9968 - val_loss: 0.0255 - val_accuracy: 0.9982\n",
      "Epoch 26/75\n",
      "2261/2261 - 1s - loss: 0.0257 - accuracy: 0.9967 - val_loss: 0.0241 - val_accuracy: 0.9956\n",
      "Epoch 27/75\n",
      "2261/2261 - 1s - loss: 0.0232 - accuracy: 0.9970 - val_loss: 0.0226 - val_accuracy: 0.9956\n",
      "Epoch 28/75\n",
      "2261/2261 - 1s - loss: 0.0224 - accuracy: 0.9969 - val_loss: 0.0208 - val_accuracy: 0.9982\n",
      "Epoch 29/75\n",
      "2261/2261 - 2s - loss: 0.0207 - accuracy: 0.9973 - val_loss: 0.0207 - val_accuracy: 0.9982\n",
      "Epoch 30/75\n",
      "2261/2261 - 2s - loss: 0.0203 - accuracy: 0.9971 - val_loss: 0.0208 - val_accuracy: 0.9956\n",
      "Epoch 31/75\n",
      "2261/2261 - 1s - loss: 0.0191 - accuracy: 0.9973 - val_loss: 0.0200 - val_accuracy: 0.9956\n",
      "Epoch 32/75\n",
      "2261/2261 - 1s - loss: 0.0185 - accuracy: 0.9974 - val_loss: 0.0203 - val_accuracy: 0.9956\n",
      "Epoch 33/75\n",
      "2261/2261 - 2s - loss: 0.0177 - accuracy: 0.9976 - val_loss: 0.0186 - val_accuracy: 0.9982\n",
      "Epoch 34/75\n",
      "2261/2261 - 2s - loss: 0.0179 - accuracy: 0.9972 - val_loss: 0.0205 - val_accuracy: 0.9956\n",
      "Epoch 35/75\n",
      "2261/2261 - 1s - loss: 0.0168 - accuracy: 0.9978 - val_loss: 0.0200 - val_accuracy: 0.9956\n",
      "Epoch 36/75\n",
      "2261/2261 - 1s - loss: 0.0164 - accuracy: 0.9977 - val_loss: 0.0170 - val_accuracy: 0.9986\n",
      "Epoch 37/75\n",
      "2261/2261 - 1s - loss: 0.0165 - accuracy: 0.9977 - val_loss: 0.0168 - val_accuracy: 0.9982\n",
      "Epoch 38/75\n",
      "2261/2261 - 1s - loss: 0.0158 - accuracy: 0.9977 - val_loss: 0.0163 - val_accuracy: 0.9982\n",
      "Epoch 39/75\n",
      "2261/2261 - 1s - loss: 0.0160 - accuracy: 0.9976 - val_loss: 0.0179 - val_accuracy: 0.9956\n",
      "Epoch 40/75\n",
      "2261/2261 - 1s - loss: 0.0148 - accuracy: 0.9977 - val_loss: 0.0161 - val_accuracy: 0.9986\n",
      "Epoch 41/75\n",
      "2261/2261 - 1s - loss: 0.0147 - accuracy: 0.9975 - val_loss: 0.0170 - val_accuracy: 0.9982\n",
      "Epoch 42/75\n",
      "2261/2261 - 1s - loss: 0.0146 - accuracy: 0.9977 - val_loss: 0.0158 - val_accuracy: 0.9982\n",
      "Epoch 43/75\n",
      "2261/2261 - 1s - loss: 0.0145 - accuracy: 0.9979 - val_loss: 0.0174 - val_accuracy: 0.9982\n",
      "Epoch 44/75\n",
      "2261/2261 - 1s - loss: 0.0140 - accuracy: 0.9981 - val_loss: 0.0165 - val_accuracy: 0.9982\n",
      "Epoch 45/75\n",
      "2261/2261 - 1s - loss: 0.0141 - accuracy: 0.9978 - val_loss: 0.0153 - val_accuracy: 0.9982\n",
      "Epoch 46/75\n",
      "2261/2261 - 2s - loss: 0.0145 - accuracy: 0.9978 - val_loss: 0.0199 - val_accuracy: 0.9956\n",
      "Epoch 47/75\n",
      "2261/2261 - 1s - loss: 0.0143 - accuracy: 0.9978 - val_loss: 0.0230 - val_accuracy: 0.9989\n",
      "Epoch 48/75\n",
      "2261/2261 - 1s - loss: 0.0140 - accuracy: 0.9980 - val_loss: 0.0150 - val_accuracy: 0.9982\n",
      "Epoch 49/75\n",
      "2261/2261 - 1s - loss: 0.0139 - accuracy: 0.9977 - val_loss: 0.0156 - val_accuracy: 0.9982\n",
      "Epoch 50/75\n",
      "2261/2261 - 1s - loss: 0.0137 - accuracy: 0.9978 - val_loss: 0.0161 - val_accuracy: 0.9982\n",
      "Epoch 51/75\n",
      "2261/2261 - 1s - loss: 0.0138 - accuracy: 0.9979 - val_loss: 0.0155 - val_accuracy: 0.9986\n",
      "Epoch 52/75\n",
      "2261/2261 - 1s - loss: 0.0135 - accuracy: 0.9983 - val_loss: 0.0142 - val_accuracy: 0.9986\n",
      "Epoch 53/75\n",
      "2261/2261 - 1s - loss: 0.0126 - accuracy: 0.9983 - val_loss: 0.0146 - val_accuracy: 0.9986\n",
      "Epoch 54/75\n",
      "2261/2261 - 1s - loss: 0.0138 - accuracy: 0.9981 - val_loss: 0.0161 - val_accuracy: 0.9986\n",
      "Epoch 55/75\n",
      "2261/2261 - 2s - loss: 0.0136 - accuracy: 0.9981 - val_loss: 0.0147 - val_accuracy: 0.9986\n",
      "Epoch 56/75\n",
      "2261/2261 - 1s - loss: 0.0133 - accuracy: 0.9980 - val_loss: 0.0149 - val_accuracy: 0.9982\n",
      "Epoch 57/75\n",
      "2261/2261 - 1s - loss: 0.0132 - accuracy: 0.9980 - val_loss: 0.0142 - val_accuracy: 0.9982\n",
      "Epoch 58/75\n",
      "2261/2261 - 1s - loss: 0.0133 - accuracy: 0.9981 - val_loss: 0.0160 - val_accuracy: 0.9986\n",
      "Epoch 59/75\n",
      "2261/2261 - 1s - loss: 0.0129 - accuracy: 0.9980 - val_loss: 0.0170 - val_accuracy: 0.9982\n",
      "Epoch 60/75\n",
      "2261/2261 - 2s - loss: 0.0130 - accuracy: 0.9979 - val_loss: 0.0149 - val_accuracy: 0.9982\n",
      "Epoch 61/75\n",
      "2261/2261 - 2s - loss: 0.0131 - accuracy: 0.9979 - val_loss: 0.0149 - val_accuracy: 0.9982\n",
      "Epoch 62/75\n",
      "2261/2261 - 2s - loss: 0.0137 - accuracy: 0.9978 - val_loss: 0.0198 - val_accuracy: 0.9956\n",
      "Epoch 63/75\n",
      "2261/2261 - 1s - loss: 0.0130 - accuracy: 0.9978 - val_loss: 0.0140 - val_accuracy: 0.9986\n",
      "Epoch 64/75\n",
      "2261/2261 - 1s - loss: 0.0132 - accuracy: 0.9980 - val_loss: 0.0155 - val_accuracy: 0.9982\n",
      "Epoch 65/75\n",
      "2261/2261 - 1s - loss: 0.0132 - accuracy: 0.9979 - val_loss: 0.0146 - val_accuracy: 0.9986\n",
      "Epoch 66/75\n",
      "2261/2261 - 1s - loss: 0.0126 - accuracy: 0.9982 - val_loss: 0.0145 - val_accuracy: 0.9986\n",
      "Epoch 67/75\n",
      "2261/2261 - 2s - loss: 0.0125 - accuracy: 0.9983 - val_loss: 0.0178 - val_accuracy: 0.9956\n",
      "Epoch 68/75\n",
      "2261/2261 - 1s - loss: 0.0129 - accuracy: 0.9979 - val_loss: 0.0229 - val_accuracy: 0.9956\n",
      "Epoch 69/75\n",
      "2261/2261 - 1s - loss: 0.0131 - accuracy: 0.9982 - val_loss: 0.0237 - val_accuracy: 0.9989\n",
      "Epoch 70/75\n",
      "2261/2261 - 1s - loss: 0.0123 - accuracy: 0.9979 - val_loss: 0.0142 - val_accuracy: 0.9986\n",
      "Epoch 71/75\n",
      "2261/2261 - 1s - loss: 0.0129 - accuracy: 0.9979 - val_loss: 0.0160 - val_accuracy: 0.9982\n",
      "Epoch 72/75\n",
      "2261/2261 - 2s - loss: 0.0123 - accuracy: 0.9982 - val_loss: 0.0173 - val_accuracy: 0.9982\n",
      "Epoch 73/75\n",
      "2261/2261 - 1s - loss: 0.0131 - accuracy: 0.9978 - val_loss: 0.0169 - val_accuracy: 0.9982\n",
      "Epoch 74/75\n",
      "2261/2261 - 1s - loss: 0.0119 - accuracy: 0.9981 - val_loss: 0.0139 - val_accuracy: 0.9986\n",
      "Epoch 75/75\n",
      "2261/2261 - 1s - loss: 0.0122 - accuracy: 0.9982 - val_loss: 0.0193 - val_accuracy: 0.9956\n"
     ]
    }
   ],
   "source": [
    "history = model.fit(x=scaled_train_samples, y=train_labels, validation_split=0.2, batch_size=10, epochs=75, shuffle=True, verbose=2)"
   ]
  },
  {
   "cell_type": "code",
   "execution_count": 17,
   "metadata": {},
   "outputs": [
    {
     "name": "stdout",
     "output_type": "stream",
     "text": [
      "dict_keys(['loss', 'accuracy', 'val_loss', 'val_accuracy'])\n"
     ]
    }
   ],
   "source": [
    "# list all data in history\n",
    "print(history.history.keys())"
   ]
  },
  {
   "cell_type": "code",
   "execution_count": 18,
   "metadata": {},
   "outputs": [
    {
     "data": {
      "image/png": "[encoded data removed]",
      "text/plain": [
       "<Figure size 432x288 with 1 Axes>"
      ]
     },
     "metadata": {
      "needs_background": "light"
     },
     "output_type": "display_data"
    }
   ],
   "source": [
    "# summarize history for accuracy\n",
    "plt.plot(history.history['accuracy'])\n",
    "plt.plot(history.history['val_accuracy'])\n",
    "plt.title('model accuracy')\n",
    "plt.ylabel('accuracy')\n",
    "plt.xlabel('epoch')\n",
    "plt.legend(['train', 'val'], loc='upper left')\n",
    "plt.savefig('plots/accuracy_' + model_name + '.png')\n",
    "plt.show()"
   ]
  },
  {
   "cell_type": "code",
   "execution_count": 19,
   "metadata": {},
   "outputs": [
    {
     "data": {
      "image/png": "[encoded data removed]",
      "text/plain": [
       "<Figure size 432x288 with 1 Axes>"
      ]
     },
     "metadata": {
      "needs_background": "light"
     },
     "output_type": "display_data"
    }
   ],
   "source": [
    "# summarize history for loss\n",
    "plt.plot(history.history['loss'])\n",
    "plt.plot(history.history['val_loss'])\n",
    "plt.title('model loss')\n",
    "plt.ylabel('loss')\n",
    "plt.xlabel('epoch')\n",
    "# plt.ylim(.55 , .65)\n",
    "plt.legend(['train', 'val'], loc='upper left')\n",
    "plt.savefig('plots/loss_' + model_name + '.png')\n",
    "plt.show()"
   ]
  },
  {
   "cell_type": "code",
   "execution_count": null,
   "metadata": {},
   "outputs": [],
   "source": []
  },
  {
   "cell_type": "markdown",
   "metadata": {},
   "source": [
    "## Predict"
   ]
  },
  {
   "cell_type": "code",
   "execution_count": null,
   "metadata": {},
   "outputs": [],
   "source": []
  },
  {
   "cell_type": "markdown",
   "metadata": {},
   "source": [
    "## Export Model"
   ]
  },
  {
   "cell_type": "code",
   "execution_count": 20,
   "metadata": {},
   "outputs": [
    {
     "name": "stdout",
     "output_type": "stream",
     "text": [
      "WARNING:tensorflow:From C:\\Users\\KAVINDA\\anaconda3\\lib\\site-packages\\tensorflow\\python\\training\\tracking\\tracking.py:111: Model.state_updates (from tensorflow.python.keras.engine.training) is deprecated and will be removed in a future version.\n",
      "Instructions for updating:\n",
      "This property should not be used in TensorFlow 2.0, as updates are applied automatically.\n",
      "WARNING:tensorflow:From C:\\Users\\KAVINDA\\anaconda3\\lib\\site-packages\\tensorflow\\python\\training\\tracking\\tracking.py:111: Layer.updates (from tensorflow.python.keras.engine.base_layer) is deprecated and will be removed in a future version.\n",
      "Instructions for updating:\n",
      "This property should not be used in TensorFlow 2.0, as updates are applied automatically.\n",
      "INFO:tensorflow:Assets written to: C:\\Users\\KAVINDA\\AppData\\Local\\Temp\\tmpocd0gaxc\\assets\n"
     ]
    },
    {
     "data": {
      "text/plain": [
       "3368"
      ]
     },
     "execution_count": 20,
     "metadata": {},
     "output_type": "execute_result"
    }
   ],
   "source": [
    "converter = lite.TFLiteConverter.from_keras_model(model)\n",
    "tfmodel = converter.convert()\n",
    "open(\"model_1_128.tflite\", \"wb\").write(tfmodel)"
   ]
  },
  {
   "cell_type": "code",
   "execution_count": null,
   "metadata": {},
   "outputs": [],
   "source": []
  }
 ],
 "metadata": {
  "kernelspec": {
   "display_name": "Python 3",
   "language": "python",
   "name": "python3"
  },
  "language_info": {
   "codemirror_mode": {
    "name": "ipython",
    "version": 3
   },
   "file_extension": ".py",
   "mimetype": "text/x-python",
   "name": "python",
   "nbconvert_exporter": "python",
   "pygments_lexer": "ipython3",
   "version": "3.8.3"
  }
 },
 "nbformat": 4,
 "nbformat_minor": 4
}
