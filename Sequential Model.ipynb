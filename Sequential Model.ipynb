{
 "cells": [
  {
   "cell_type": "markdown",
   "metadata": {},
   "source": [
    "# Using BLE RSSI Values to Classify Proximity with Deep Neural Networks"
   ]
  },
  {
   "cell_type": "markdown",
   "metadata": {},
   "source": [
    " "
   ]
  },
  {
   "cell_type": "code",
   "execution_count": 1,
   "metadata": {},
   "outputs": [],
   "source": [
    "import numpy as np\n",
    "import pandas as pd\n",
    "from random import randint\n",
    "from sklearn.utils import shuffle\n",
    "from sklearn.preprocessing import MinMaxScaler\n",
    "import visualkeras\n",
    "import matplotlib.pyplot as plt"
   ]
  },
  {
   "cell_type": "code",
   "execution_count": 2,
   "metadata": {},
   "outputs": [],
   "source": [
    "model_name = '1denselayers_hiddenlayersize128'\n",
    "hidden_layer_size = 128"
   ]
  },
  {
   "cell_type": "code",
   "execution_count": 3,
   "metadata": {},
   "outputs": [],
   "source": [
    "df = pd.read_csv(\"rssi_dataset_3.csv\")"
   ]
  },
  {
   "cell_type": "code",
   "execution_count": 4,
   "metadata": {},
   "outputs": [
    {
     "data": {
      "text/html": [
       "<div>\n",
       "<style scoped>\n",
       "    .dataframe tbody tr th:only-of-type {\n",
       "        vertical-align: middle;\n",
       "    }\n",
       "\n",
       "    .dataframe tbody tr th {\n",
       "        vertical-align: top;\n",
       "    }\n",
       "\n",
       "    .dataframe thead th {\n",
       "        text-align: right;\n",
       "    }\n",
       "</style>\n",
       "<table border=\"1\" class=\"dataframe\">\n",
       "  <thead>\n",
       "    <tr style=\"text-align: right;\">\n",
       "      <th></th>\n",
       "      <th>Unnamed: 0</th>\n",
       "      <th>rssi</th>\n",
       "      <th>target</th>\n",
       "    </tr>\n",
       "  </thead>\n",
       "  <tbody>\n",
       "    <tr>\n",
       "      <th>0</th>\n",
       "      <td>0</td>\n",
       "      <td>-98</td>\n",
       "      <td>0</td>\n",
       "    </tr>\n",
       "    <tr>\n",
       "      <th>1</th>\n",
       "      <td>1</td>\n",
       "      <td>-99</td>\n",
       "      <td>0</td>\n",
       "    </tr>\n",
       "    <tr>\n",
       "      <th>2</th>\n",
       "      <td>2</td>\n",
       "      <td>-100</td>\n",
       "      <td>0</td>\n",
       "    </tr>\n",
       "    <tr>\n",
       "      <th>3</th>\n",
       "      <td>3</td>\n",
       "      <td>-99</td>\n",
       "      <td>0</td>\n",
       "    </tr>\n",
       "    <tr>\n",
       "      <th>4</th>\n",
       "      <td>4</td>\n",
       "      <td>-88</td>\n",
       "      <td>0</td>\n",
       "    </tr>\n",
       "    <tr>\n",
       "      <th>...</th>\n",
       "      <td>...</td>\n",
       "      <td>...</td>\n",
       "      <td>...</td>\n",
       "    </tr>\n",
       "    <tr>\n",
       "      <th>13881</th>\n",
       "      <td>13881</td>\n",
       "      <td>-98</td>\n",
       "      <td>0</td>\n",
       "    </tr>\n",
       "    <tr>\n",
       "      <th>13882</th>\n",
       "      <td>13882</td>\n",
       "      <td>-69</td>\n",
       "      <td>1</td>\n",
       "    </tr>\n",
       "    <tr>\n",
       "      <th>13883</th>\n",
       "      <td>13883</td>\n",
       "      <td>-96</td>\n",
       "      <td>0</td>\n",
       "    </tr>\n",
       "    <tr>\n",
       "      <th>13884</th>\n",
       "      <td>13884</td>\n",
       "      <td>-66</td>\n",
       "      <td>1</td>\n",
       "    </tr>\n",
       "    <tr>\n",
       "      <th>13885</th>\n",
       "      <td>13885</td>\n",
       "      <td>-67</td>\n",
       "      <td>1</td>\n",
       "    </tr>\n",
       "  </tbody>\n",
       "</table>\n",
       "<p>13886 rows × 3 columns</p>\n",
       "</div>"
      ],
      "text/plain": [
       "       Unnamed: 0  rssi  target\n",
       "0               0   -98       0\n",
       "1               1   -99       0\n",
       "2               2  -100       0\n",
       "3               3   -99       0\n",
       "4               4   -88       0\n",
       "...           ...   ...     ...\n",
       "13881       13881   -98       0\n",
       "13882       13882   -69       1\n",
       "13883       13883   -96       0\n",
       "13884       13884   -66       1\n",
       "13885       13885   -67       1\n",
       "\n",
       "[13886 rows x 3 columns]"
      ]
     },
     "execution_count": 4,
     "metadata": {},
     "output_type": "execute_result"
    }
   ],
   "source": [
    "df"
   ]
  },
  {
   "cell_type": "code",
   "execution_count": 5,
   "metadata": {},
   "outputs": [],
   "source": [
    "train_labels = df['target']\n",
    "train_samples = df['rssi']"
   ]
  },
  {
   "cell_type": "code",
   "execution_count": 6,
   "metadata": {},
   "outputs": [],
   "source": [
    "train_labels = np.array(train_labels)\n",
    "train_samples = np.array(train_samples)"
   ]
  },
  {
   "cell_type": "code",
   "execution_count": null,
   "metadata": {},
   "outputs": [],
   "source": []
  },
  {
   "cell_type": "code",
   "execution_count": 7,
   "metadata": {},
   "outputs": [],
   "source": [
    "scaled_train_samples = train_samples.reshape(-1,1)"
   ]
  },
  {
   "cell_type": "code",
   "execution_count": 8,
   "metadata": {},
   "outputs": [
    {
     "name": "stdout",
     "output_type": "stream",
     "text": [
      "[[ -98]\n",
      " [ -99]\n",
      " [-100]\n",
      " ...\n",
      " [ -96]\n",
      " [ -66]\n",
      " [ -67]]\n"
     ]
    }
   ],
   "source": [
    "print(scaled_train_samples)"
   ]
  },
  {
   "cell_type": "code",
   "execution_count": 9,
   "metadata": {},
   "outputs": [
    {
     "name": "stdout",
     "output_type": "stream",
     "text": [
      "[0 0 0 ... 0 1 1]\n"
     ]
    }
   ],
   "source": [
    "print(train_labels)"
   ]
  },
  {
   "cell_type": "markdown",
   "metadata": {},
   "source": [
    "## Simple tf.keras Sequential Model"
   ]
  },
  {
   "cell_type": "code",
   "execution_count": 10,
   "metadata": {},
   "outputs": [],
   "source": [
    "import tensorflow as tf\n",
    "from tensorflow import keras\n",
    "from tensorflow.keras.models import Sequential\n",
    "from tensorflow.keras.layers import Activation, Dense, Dropout, DenseFeatures\n",
    "from tensorflow.keras.optimizers import Adam\n",
    "from tensorflow.keras.metrics import categorical_crossentropy\n",
    "from tensorflow import lite\n",
    "from keras.utils import plot_model"
   ]
  },
  {
   "cell_type": "code",
   "execution_count": 11,
   "metadata": {},
   "outputs": [
    {
     "name": "stdout",
     "output_type": "stream",
     "text": [
      "Available:  0\n"
     ]
    }
   ],
   "source": [
    "physial_devices = tf.config.experimental.list_physical_devices('GPU')\n",
    "print(\"Available: \", len(physial_devices))"
   ]
  },
  {
   "cell_type": "code",
   "execution_count": 12,
   "metadata": {},
   "outputs": [],
   "source": [
    "model = Sequential([\n",
    "    Dense(units=hidden_layer_size, input_shape=(1,), activation='relu'),\n",
    "    Dropout(rate = 0.1),\n",
    "    Dense(units=2, activation='softmax')\n",
    "])"
   ]
  },
  {
   "cell_type": "code",
   "execution_count": 13,
   "metadata": {},
   "outputs": [
    {
     "name": "stdout",
     "output_type": "stream",
     "text": [
      "Model: \"sequential\"\n",
      "_________________________________________________________________\n",
      "Layer (type)                 Output Shape              Param #   \n",
      "=================================================================\n",
      "dense (Dense)                (None, 128)               256       \n",
      "_________________________________________________________________\n",
      "dropout (Dropout)            (None, 128)               0         \n",
      "_________________________________________________________________\n",
      "dense_1 (Dense)              (None, 2)                 258       \n",
      "=================================================================\n",
      "Total params: 514\n",
      "Trainable params: 514\n",
      "Non-trainable params: 0\n",
      "_________________________________________________________________\n"
     ]
    }
   ],
   "source": [
    "model.summary()"
   ]
  },
  {
   "cell_type": "code",
   "execution_count": 14,
   "metadata": {},
   "outputs": [
    {
     "data": {
      "image/png": "[encoded data removed]",
      "text/plain": [
       "<PIL.Image.Image image mode=RGBA size=107x27 at 0x29B43B7ADC0>"
      ]
     },
     "execution_count": 14,
     "metadata": {},
     "output_type": "execute_result"
    }
   ],
   "source": [
    "visualkeras.layered_view(model, to_file= 'visualkeras/' + model_name + '.png')"
   ]
  },
  {
   "cell_type": "code",
   "execution_count": 15,
   "metadata": {},
   "outputs": [],
   "source": [
    "model.compile(optimizer=Adam(learning_rate=0.0001), loss='sparse_categorical_crossentropy', metrics=['accuracy'])"
   ]
  },
  {
   "cell_type": "code",
   "execution_count": 16,
   "metadata": {},
   "outputs": [
    {
     "name": "stdout",
     "output_type": "stream",
     "text": [
      "Epoch 1/75\n",
      "1111/1111 - 1s - loss: 2.0431 - accuracy: 0.6391 - val_loss: 0.9974 - val_accuracy: 0.7196\n",
      "Epoch 2/75\n",
      "1111/1111 - 1s - loss: 1.3817 - accuracy: 0.6335 - val_loss: 0.7581 - val_accuracy: 0.7196\n",
      "Epoch 3/75\n",
      "1111/1111 - 1s - loss: 1.1401 - accuracy: 0.6454 - val_loss: 0.6032 - val_accuracy: 0.7196\n",
      "Epoch 4/75\n",
      "1111/1111 - 1s - loss: 0.9740 - accuracy: 0.6494 - val_loss: 0.6097 - val_accuracy: 0.7196\n",
      "Epoch 5/75\n",
      "1111/1111 - 1s - loss: 0.8282 - accuracy: 0.6606 - val_loss: 0.5328 - val_accuracy: 0.7196\n",
      "Epoch 6/75\n",
      "1111/1111 - 1s - loss: 0.6935 - accuracy: 0.6782 - val_loss: 0.4590 - val_accuracy: 0.7196\n",
      "Epoch 7/75\n",
      "1111/1111 - 1s - loss: 0.6121 - accuracy: 0.6969 - val_loss: 0.4815 - val_accuracy: 0.7196\n",
      "Epoch 8/75\n",
      "1111/1111 - 1s - loss: 0.5421 - accuracy: 0.7197 - val_loss: 0.4405 - val_accuracy: 0.7196\n",
      "Epoch 9/75\n",
      "1111/1111 - 1s - loss: 0.4966 - accuracy: 0.7324 - val_loss: 0.4289 - val_accuracy: 0.7196\n",
      "Epoch 10/75\n",
      "1111/1111 - 1s - loss: 0.4635 - accuracy: 0.7454 - val_loss: 0.4245 - val_accuracy: 0.7196\n",
      "Epoch 11/75\n",
      "1111/1111 - 1s - loss: 0.4294 - accuracy: 0.7584 - val_loss: 0.3863 - val_accuracy: 0.7196\n",
      "Epoch 12/75\n",
      "1111/1111 - 1s - loss: 0.3942 - accuracy: 0.7753 - val_loss: 0.3638 - val_accuracy: 0.7196\n",
      "Epoch 13/75\n",
      "1111/1111 - 1s - loss: 0.3592 - accuracy: 0.8037 - val_loss: 0.3246 - val_accuracy: 0.7430\n",
      "Epoch 14/75\n",
      "1111/1111 - 1s - loss: 0.3176 - accuracy: 0.8588 - val_loss: 0.2874 - val_accuracy: 0.8402\n",
      "Epoch 15/75\n",
      "1111/1111 - 1s - loss: 0.2732 - accuracy: 0.9259 - val_loss: 0.2387 - val_accuracy: 0.9939\n",
      "Epoch 16/75\n",
      "1111/1111 - 1s - loss: 0.2258 - accuracy: 0.9722 - val_loss: 0.1941 - val_accuracy: 0.9982\n",
      "Epoch 17/75\n",
      "1111/1111 - 1s - loss: 0.1810 - accuracy: 0.9916 - val_loss: 0.1519 - val_accuracy: 0.9982\n",
      "Epoch 18/75\n",
      "1111/1111 - 1s - loss: 0.1418 - accuracy: 0.9960 - val_loss: 0.1163 - val_accuracy: 0.9989\n",
      "Epoch 19/75\n",
      "1111/1111 - 1s - loss: 0.1089 - accuracy: 0.9977 - val_loss: 0.0898 - val_accuracy: 0.9986\n",
      "Epoch 20/75\n",
      "1111/1111 - 1s - loss: 0.0830 - accuracy: 0.9983 - val_loss: 0.0651 - val_accuracy: 0.9993\n",
      "Epoch 21/75\n",
      "1111/1111 - 1s - loss: 0.0627 - accuracy: 0.9986 - val_loss: 0.0487 - val_accuracy: 0.9993\n",
      "Epoch 22/75\n",
      "1111/1111 - 1s - loss: 0.0484 - accuracy: 0.9983 - val_loss: 0.0373 - val_accuracy: 0.9993\n",
      "Epoch 23/75\n",
      "1111/1111 - 1s - loss: 0.0373 - accuracy: 0.9984 - val_loss: 0.0286 - val_accuracy: 0.9993\n",
      "Epoch 24/75\n",
      "1111/1111 - 1s - loss: 0.0302 - accuracy: 0.9986 - val_loss: 0.0228 - val_accuracy: 0.9993\n",
      "Epoch 25/75\n",
      "1111/1111 - 1s - loss: 0.0247 - accuracy: 0.9986 - val_loss: 0.0189 - val_accuracy: 0.9993\n",
      "Epoch 26/75\n",
      "1111/1111 - 1s - loss: 0.0207 - accuracy: 0.9986 - val_loss: 0.0191 - val_accuracy: 0.9989\n",
      "Epoch 27/75\n",
      "1111/1111 - 1s - loss: 0.0182 - accuracy: 0.9986 - val_loss: 0.0146 - val_accuracy: 0.9993\n",
      "Epoch 28/75\n",
      "1111/1111 - 1s - loss: 0.0160 - accuracy: 0.9986 - val_loss: 0.0122 - val_accuracy: 0.9993\n",
      "Epoch 29/75\n",
      "1111/1111 - 1s - loss: 0.0140 - accuracy: 0.9986 - val_loss: 0.0111 - val_accuracy: 0.9993\n",
      "Epoch 30/75\n",
      "1111/1111 - 1s - loss: 0.0140 - accuracy: 0.9986 - val_loss: 0.0110 - val_accuracy: 0.9993\n",
      "Epoch 31/75\n",
      "1111/1111 - 1s - loss: 0.0126 - accuracy: 0.9987 - val_loss: 0.0122 - val_accuracy: 0.9989\n",
      "Epoch 32/75\n",
      "1111/1111 - 1s - loss: 0.0119 - accuracy: 0.9988 - val_loss: 0.0092 - val_accuracy: 0.9993\n",
      "Epoch 33/75\n",
      "1111/1111 - 1s - loss: 0.0111 - accuracy: 0.9988 - val_loss: 0.0088 - val_accuracy: 0.9993\n",
      "Epoch 34/75\n",
      "1111/1111 - 1s - loss: 0.0117 - accuracy: 0.9987 - val_loss: 0.0107 - val_accuracy: 0.9993\n",
      "Epoch 35/75\n",
      "1111/1111 - 1s - loss: 0.0106 - accuracy: 0.9988 - val_loss: 0.0085 - val_accuracy: 0.9993\n",
      "Epoch 36/75\n",
      "1111/1111 - 1s - loss: 0.0105 - accuracy: 0.9988 - val_loss: 0.0082 - val_accuracy: 0.9993\n",
      "Epoch 37/75\n",
      "1111/1111 - 1s - loss: 0.0107 - accuracy: 0.9988 - val_loss: 0.0100 - val_accuracy: 0.9989\n",
      "Epoch 38/75\n",
      "1111/1111 - 1s - loss: 0.0102 - accuracy: 0.9988 - val_loss: 0.0078 - val_accuracy: 0.9993\n",
      "Epoch 39/75\n",
      "1111/1111 - 1s - loss: 0.0098 - accuracy: 0.9987 - val_loss: 0.0094 - val_accuracy: 0.9993\n",
      "Epoch 40/75\n",
      "1111/1111 - 1s - loss: 0.0090 - accuracy: 0.9986 - val_loss: 0.0083 - val_accuracy: 0.9993\n",
      "Epoch 41/75\n",
      "1111/1111 - 1s - loss: 0.0100 - accuracy: 0.9988 - val_loss: 0.0077 - val_accuracy: 0.9993\n",
      "Epoch 42/75\n",
      "1111/1111 - 1s - loss: 0.0091 - accuracy: 0.9988 - val_loss: 0.0080 - val_accuracy: 0.9993\n",
      "Epoch 43/75\n",
      "1111/1111 - 1s - loss: 0.0093 - accuracy: 0.9986 - val_loss: 0.0076 - val_accuracy: 0.9993\n",
      "Epoch 44/75\n",
      "1111/1111 - 1s - loss: 0.0096 - accuracy: 0.9989 - val_loss: 0.0074 - val_accuracy: 0.9993\n",
      "Epoch 45/75\n",
      "1111/1111 - 1s - loss: 0.0090 - accuracy: 0.9986 - val_loss: 0.0094 - val_accuracy: 0.9993\n",
      "Epoch 46/75\n",
      "1111/1111 - 1s - loss: 0.0090 - accuracy: 0.9987 - val_loss: 0.0076 - val_accuracy: 0.9993\n",
      "Epoch 47/75\n",
      "1111/1111 - 1s - loss: 0.0094 - accuracy: 0.9987 - val_loss: 0.0075 - val_accuracy: 0.9993\n",
      "Epoch 48/75\n",
      "1111/1111 - 1s - loss: 0.0092 - accuracy: 0.9988 - val_loss: 0.0078 - val_accuracy: 0.9993\n",
      "Epoch 49/75\n",
      "1111/1111 - 1s - loss: 0.0096 - accuracy: 0.9988 - val_loss: 0.0074 - val_accuracy: 0.9993\n",
      "Epoch 50/75\n",
      "1111/1111 - 1s - loss: 0.0087 - accuracy: 0.9987 - val_loss: 0.0075 - val_accuracy: 0.9993\n",
      "Epoch 51/75\n",
      "1111/1111 - 1s - loss: 0.0086 - accuracy: 0.9989 - val_loss: 0.0072 - val_accuracy: 0.9993\n",
      "Epoch 52/75\n",
      "1111/1111 - 1s - loss: 0.0087 - accuracy: 0.9989 - val_loss: 0.0073 - val_accuracy: 0.9993\n",
      "Epoch 53/75\n",
      "1111/1111 - 1s - loss: 0.0092 - accuracy: 0.9988 - val_loss: 0.0087 - val_accuracy: 0.9989\n",
      "Epoch 54/75\n",
      "1111/1111 - 1s - loss: 0.0082 - accuracy: 0.9988 - val_loss: 0.0075 - val_accuracy: 0.9993\n",
      "Epoch 55/75\n",
      "1111/1111 - 1s - loss: 0.0093 - accuracy: 0.9987 - val_loss: 0.0077 - val_accuracy: 0.9993\n",
      "Epoch 56/75\n",
      "1111/1111 - 1s - loss: 0.0086 - accuracy: 0.9988 - val_loss: 0.0074 - val_accuracy: 0.9993\n",
      "Epoch 57/75\n",
      "1111/1111 - 1s - loss: 0.0091 - accuracy: 0.9988 - val_loss: 0.0076 - val_accuracy: 0.9993\n",
      "Epoch 58/75\n",
      "1111/1111 - 1s - loss: 0.0093 - accuracy: 0.9986 - val_loss: 0.0074 - val_accuracy: 0.9993\n",
      "Epoch 59/75\n",
      "1111/1111 - 1s - loss: 0.0088 - accuracy: 0.9987 - val_loss: 0.0074 - val_accuracy: 0.9993\n",
      "Epoch 60/75\n",
      "1111/1111 - 1s - loss: 0.0088 - accuracy: 0.9988 - val_loss: 0.0072 - val_accuracy: 0.9993\n",
      "Epoch 61/75\n",
      "1111/1111 - 1s - loss: 0.0087 - accuracy: 0.9987 - val_loss: 0.0078 - val_accuracy: 0.9993\n",
      "Epoch 62/75\n",
      "1111/1111 - 1s - loss: 0.0087 - accuracy: 0.9988 - val_loss: 0.0075 - val_accuracy: 0.9993\n",
      "Epoch 63/75\n",
      "1111/1111 - 1s - loss: 0.0089 - accuracy: 0.9986 - val_loss: 0.0071 - val_accuracy: 0.9993\n",
      "Epoch 64/75\n",
      "1111/1111 - 1s - loss: 0.0086 - accuracy: 0.9987 - val_loss: 0.0072 - val_accuracy: 0.9993\n",
      "Epoch 65/75\n",
      "1111/1111 - 1s - loss: 0.0090 - accuracy: 0.9988 - val_loss: 0.0072 - val_accuracy: 0.9993\n",
      "Epoch 66/75\n",
      "1111/1111 - 1s - loss: 0.0087 - accuracy: 0.9988 - val_loss: 0.0070 - val_accuracy: 0.9993\n",
      "Epoch 67/75\n",
      "1111/1111 - 1s - loss: 0.0084 - accuracy: 0.9987 - val_loss: 0.0077 - val_accuracy: 0.9993\n",
      "Epoch 68/75\n",
      "1111/1111 - 1s - loss: 0.0086 - accuracy: 0.9987 - val_loss: 0.0076 - val_accuracy: 0.9993\n",
      "Epoch 69/75\n",
      "1111/1111 - 1s - loss: 0.0091 - accuracy: 0.9988 - val_loss: 0.0075 - val_accuracy: 0.9993\n",
      "Epoch 70/75\n",
      "1111/1111 - 1s - loss: 0.0089 - accuracy: 0.9988 - val_loss: 0.0093 - val_accuracy: 0.9993\n",
      "Epoch 71/75\n",
      "1111/1111 - 1s - loss: 0.0082 - accuracy: 0.9988 - val_loss: 0.0074 - val_accuracy: 0.9993\n",
      "Epoch 72/75\n",
      "1111/1111 - 1s - loss: 0.0090 - accuracy: 0.9987 - val_loss: 0.0070 - val_accuracy: 0.9993\n",
      "Epoch 73/75\n",
      "1111/1111 - 1s - loss: 0.0083 - accuracy: 0.9988 - val_loss: 0.0078 - val_accuracy: 0.9993\n",
      "Epoch 74/75\n",
      "1111/1111 - 1s - loss: 0.0084 - accuracy: 0.9987 - val_loss: 0.0086 - val_accuracy: 0.9993\n",
      "Epoch 75/75\n",
      "1111/1111 - 1s - loss: 0.0080 - accuracy: 0.9988 - val_loss: 0.0075 - val_accuracy: 0.9993\n"
     ]
    }
   ],
   "source": [
    "history = model.fit(x=scaled_train_samples, y=train_labels, validation_split=0.2, batch_size=10, epochs=75, shuffle=True, verbose=2)"
   ]
  },
  {
   "cell_type": "code",
   "execution_count": 17,
   "metadata": {},
   "outputs": [
    {
     "name": "stdout",
     "output_type": "stream",
     "text": [
      "dict_keys(['loss', 'accuracy', 'val_loss', 'val_accuracy'])\n"
     ]
    }
   ],
   "source": [
    "# list all data in history\n",
    "print(history.history.keys())"
   ]
  },
  {
   "cell_type": "code",
   "execution_count": 18,
   "metadata": {},
   "outputs": [
    {
     "data": {
      "image/png": "[encoded data removed]",
      "text/plain": [
       "<Figure size 432x288 with 1 Axes>"
      ]
     },
     "metadata": {
      "needs_background": "light"
     },
     "output_type": "display_data"
    }
   ],
   "source": [
    "# summarize history for accuracy\n",
    "plt.plot(history.history['accuracy'])\n",
    "plt.plot(history.history['val_accuracy'])\n",
    "plt.title('model accuracy')\n",
    "plt.ylabel('accuracy')\n",
    "plt.xlabel('epoch')\n",
    "plt.legend(['train', 'val'], loc='upper left')\n",
    "plt.savefig('plots/accuracy_' + model_name + '.png')\n",
    "plt.show()"
   ]
  },
  {
   "cell_type": "code",
   "execution_count": 19,
   "metadata": {},
   "outputs": [
    {
     "data": {
      "image/png": "[encoded data removed]",
      "text/plain": [
       "<Figure size 432x288 with 1 Axes>"
      ]
     },
     "metadata": {
      "needs_background": "light"
     },
     "output_type": "display_data"
    }
   ],
   "source": [
    "# summarize history for loss\n",
    "plt.plot(history.history['loss'])\n",
    "plt.plot(history.history['val_loss'])\n",
    "plt.title('model loss')\n",
    "plt.ylabel('loss')\n",
    "plt.xlabel('epoch')\n",
    "# plt.ylim(.55 , .65)\n",
    "plt.legend(['train', 'val'], loc='upper left')\n",
    "plt.savefig('plots/loss_' + model_name + '.png')\n",
    "plt.show()"
   ]
  },
  {
   "cell_type": "code",
   "execution_count": null,
   "metadata": {},
   "outputs": [],
   "source": []
  },
  {
   "cell_type": "markdown",
   "metadata": {},
   "source": [
    "## Predict"
   ]
  },
  {
   "cell_type": "code",
   "execution_count": null,
   "metadata": {},
   "outputs": [],
   "source": []
  },
  {
   "cell_type": "markdown",
   "metadata": {},
   "source": [
    "## Export Model"
   ]
  },
  {
   "cell_type": "code",
   "execution_count": 20,
   "metadata": {},
   "outputs": [
    {
     "name": "stdout",
     "output_type": "stream",
     "text": [
      "WARNING:tensorflow:From C:\\Users\\KAVINDA\\anaconda3\\lib\\site-packages\\tensorflow\\python\\training\\tracking\\tracking.py:111: Model.state_updates (from tensorflow.python.keras.engine.training) is deprecated and will be removed in a future version.\n",
      "Instructions for updating:\n",
      "This property should not be used in TensorFlow 2.0, as updates are applied automatically.\n",
      "WARNING:tensorflow:From C:\\Users\\KAVINDA\\anaconda3\\lib\\site-packages\\tensorflow\\python\\training\\tracking\\tracking.py:111: Layer.updates (from tensorflow.python.keras.engine.base_layer) is deprecated and will be removed in a future version.\n",
      "Instructions for updating:\n",
      "This property should not be used in TensorFlow 2.0, as updates are applied automatically.\n",
      "INFO:tensorflow:Assets written to: C:\\Users\\KAVINDA\\AppData\\Local\\Temp\\tmp_v2qfen9\\assets\n"
     ]
    },
    {
     "data": {
      "text/plain": [
       "3368"
      ]
     },
     "execution_count": 20,
     "metadata": {},
     "output_type": "execute_result"
    }
   ],
   "source": [
    "converter = lite.TFLiteConverter.from_keras_model(model)\n",
    "tfmodel = converter.convert()\n",
    "open(\"model_1_128.tflite\", \"wb\").write(tfmodel)"
   ]
  },
  {
   "cell_type": "code",
   "execution_count": null,
   "metadata": {},
   "outputs": [],
   "source": []
  }
 ],
 "metadata": {
  "kernelspec": {
   "display_name": "Python 3",
   "language": "python",
   "name": "python3"
  },
  "language_info": {
   "codemirror_mode": {
    "name": "ipython",
    "version": 3
   },
   "file_extension": ".py",
   "mimetype": "text/x-python",
   "name": "python",
   "nbconvert_exporter": "python",
   "pygments_lexer": "ipython3",
   "version": "3.8.3"
  }
 },
 "nbformat": 4,
 "nbformat_minor": 4
}
