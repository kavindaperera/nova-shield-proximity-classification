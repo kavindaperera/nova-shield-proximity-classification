{
 "cells": [
  {
   "cell_type": "markdown",
   "metadata": {},
   "source": [
    "# Using BLE RSSI Values to Classify Proximity with Deep Neural Networks"
   ]
  },
  {
   "cell_type": "markdown",
   "metadata": {},
   "source": [
    " "
   ]
  },
  {
   "cell_type": "code",
   "execution_count": 1,
   "metadata": {},
   "outputs": [],
   "source": [
    "import numpy as np\n",
    "import pandas as pd\n",
    "from random import randint\n",
    "from sklearn.utils import shuffle\n",
    "from sklearn.preprocessing import MinMaxScaler\n",
    "import visualkeras\n",
    "import matplotlib.pyplot as plt"
   ]
  },
  {
   "cell_type": "code",
   "execution_count": 2,
   "metadata": {},
   "outputs": [],
   "source": [
    "df = pd.read_csv(\"rssi_dataset_1.csv\")"
   ]
  },
  {
   "cell_type": "code",
   "execution_count": 3,
   "metadata": {},
   "outputs": [],
   "source": [
    "train_labels = df['target']\n",
    "train_samples = df['rssi']"
   ]
  },
  {
   "cell_type": "code",
   "execution_count": 4,
   "metadata": {},
   "outputs": [],
   "source": [
    "train_labels = np.array(train_labels)\n",
    "train_samples = np.array(train_samples)"
   ]
  },
  {
   "cell_type": "code",
   "execution_count": 5,
   "metadata": {},
   "outputs": [],
   "source": [
    "# min max scale\n",
    "scaler = MinMaxScaler(feature_range=(0,1))\n",
    "scaled_train_samples = scaler.fit_transform(train_samples.reshape(-1,1))"
   ]
  },
  {
   "cell_type": "code",
   "execution_count": 6,
   "metadata": {},
   "outputs": [
    {
     "name": "stdout",
     "output_type": "stream",
     "text": [
      "[[0.86842105]\n",
      " [0.81578947]\n",
      " [0.71052632]\n",
      " ...\n",
      " [0.13157895]\n",
      " [0.84210526]\n",
      " [0.81578947]]\n"
     ]
    }
   ],
   "source": [
    "print(scaled_train_samples)"
   ]
  },
  {
   "cell_type": "code",
   "execution_count": 7,
   "metadata": {},
   "outputs": [
    {
     "name": "stdout",
     "output_type": "stream",
     "text": [
      "[1 1 1 ... 0 1 1]\n"
     ]
    }
   ],
   "source": [
    "print(train_labels)"
   ]
  },
  {
   "cell_type": "code",
   "execution_count": null,
   "metadata": {},
   "outputs": [],
   "source": []
  },
  {
   "cell_type": "code",
   "execution_count": null,
   "metadata": {},
   "outputs": [],
   "source": []
  },
  {
   "cell_type": "markdown",
   "metadata": {},
   "source": [
    "## Simple tf.keras Sequential Model"
   ]
  },
  {
   "cell_type": "code",
   "execution_count": 8,
   "metadata": {},
   "outputs": [],
   "source": [
    "import tensorflow as tf\n",
    "from tensorflow import keras\n",
    "from tensorflow.keras.models import Sequential\n",
    "from tensorflow.keras.layers import Activation, Dense, Dropout\n",
    "from tensorflow.keras.optimizers import Adam\n",
    "from tensorflow.keras.metrics import categorical_crossentropy\n",
    "from tensorflow import lite"
   ]
  },
  {
   "cell_type": "code",
   "execution_count": 9,
   "metadata": {},
   "outputs": [
    {
     "name": "stdout",
     "output_type": "stream",
     "text": [
      "Avaialble:  0\n"
     ]
    }
   ],
   "source": [
    "physial_devices = tf.config.experimental.list_physical_devices('GPU')\n",
    "print(\"Avaialble: \", len(physial_devices))"
   ]
  },
  {
   "cell_type": "code",
   "execution_count": 10,
   "metadata": {},
   "outputs": [],
   "source": [
    "# model = Sequential([\n",
    "#     Dense(units=16, input_shape=(1,), activation='relu'), # first hidden layer - 16 neurons\n",
    "#     Dense(units=32, activation='relu'),\n",
    "#     Dense(units=2, activation='softmax')\n",
    "# ])"
   ]
  },
  {
   "cell_type": "code",
   "execution_count": 11,
   "metadata": {},
   "outputs": [],
   "source": [
    "model = Sequential([\n",
    "    Dense(units=128, input_shape=(1,), activation='relu'), # first hidden layer - 128 neurons\n",
    "    Dropout(rate =  0.25),\n",
    "    Dense(units=2, activation='softmax')\n",
    "])"
   ]
  },
  {
   "cell_type": "code",
   "execution_count": 12,
   "metadata": {},
   "outputs": [
    {
     "name": "stdout",
     "output_type": "stream",
     "text": [
      "Model: \"sequential\"\n",
      "_________________________________________________________________\n",
      "Layer (type)                 Output Shape              Param #   \n",
      "=================================================================\n",
      "dense (Dense)                (None, 128)               256       \n",
      "_________________________________________________________________\n",
      "dropout (Dropout)            (None, 128)               0         \n",
      "_________________________________________________________________\n",
      "dense_1 (Dense)              (None, 2)                 258       \n",
      "=================================================================\n",
      "Total params: 514\n",
      "Trainable params: 514\n",
      "Non-trainable params: 0\n",
      "_________________________________________________________________\n"
     ]
    }
   ],
   "source": [
    "model.summary()"
   ]
  },
  {
   "cell_type": "code",
   "execution_count": 13,
   "metadata": {},
   "outputs": [
    {
     "data": {
      "image/png": "[encoded data removed]",
      "text/plain": [
       "<PIL.Image.Image image mode=RGBA size=107x27 at 0x118FBC90A30>"
      ]
     },
     "execution_count": 13,
     "metadata": {},
     "output_type": "execute_result"
    }
   ],
   "source": [
    "visualkeras.layered_view(model) "
   ]
  },
  {
   "cell_type": "code",
   "execution_count": 14,
   "metadata": {},
   "outputs": [],
   "source": [
    "model.compile(optimizer=Adam(learning_rate=0.0001), loss='sparse_categorical_crossentropy', metrics=['accuracy'])"
   ]
  },
  {
   "cell_type": "code",
   "execution_count": 15,
   "metadata": {},
   "outputs": [
    {
     "name": "stdout",
     "output_type": "stream",
     "text": [
      "Epoch 1/30\n",
      "559/559 - 1s - loss: 0.6101 - accuracy: 0.5613 - val_loss: 0.5018 - val_accuracy: 0.6495\n",
      "Epoch 2/30\n",
      "559/559 - 1s - loss: 0.4546 - accuracy: 0.6303 - val_loss: 0.3796 - val_accuracy: 0.6720\n",
      "Epoch 3/30\n",
      "559/559 - 1s - loss: 0.3497 - accuracy: 0.8653 - val_loss: 0.2960 - val_accuracy: 0.9518\n",
      "Epoch 4/30\n",
      "559/559 - 1s - loss: 0.2872 - accuracy: 0.9569 - val_loss: 0.2489 - val_accuracy: 0.9920\n",
      "Epoch 5/30\n",
      "559/559 - 1s - loss: 0.2450 - accuracy: 0.9950 - val_loss: 0.2111 - val_accuracy: 1.0000\n",
      "Epoch 6/30\n",
      "559/559 - 1s - loss: 0.2073 - accuracy: 0.9989 - val_loss: 0.1755 - val_accuracy: 1.0000\n",
      "Epoch 7/30\n",
      "559/559 - 0s - loss: 0.1705 - accuracy: 0.9991 - val_loss: 0.1414 - val_accuracy: 1.0000\n",
      "Epoch 8/30\n",
      "559/559 - 1s - loss: 0.1377 - accuracy: 0.9989 - val_loss: 0.1115 - val_accuracy: 0.9984\n",
      "Epoch 9/30\n",
      "559/559 - 1s - loss: 0.1092 - accuracy: 0.9991 - val_loss: 0.0867 - val_accuracy: 0.9984\n",
      "Epoch 10/30\n",
      "559/559 - 1s - loss: 0.0860 - accuracy: 0.9989 - val_loss: 0.0672 - val_accuracy: 0.9984\n",
      "Epoch 11/30\n",
      "559/559 - 1s - loss: 0.0677 - accuracy: 0.9989 - val_loss: 0.0521 - val_accuracy: 0.9984\n",
      "Epoch 12/30\n",
      "559/559 - 1s - loss: 0.0548 - accuracy: 0.9987 - val_loss: 0.0405 - val_accuracy: 0.9984\n",
      "Epoch 13/30\n",
      "559/559 - 0s - loss: 0.0447 - accuracy: 0.9987 - val_loss: 0.0317 - val_accuracy: 0.9984\n",
      "Epoch 14/30\n",
      "559/559 - 0s - loss: 0.0354 - accuracy: 0.9989 - val_loss: 0.0253 - val_accuracy: 0.9984\n",
      "Epoch 15/30\n",
      "559/559 - 0s - loss: 0.0311 - accuracy: 0.9986 - val_loss: 0.0204 - val_accuracy: 0.9984\n",
      "Epoch 16/30\n",
      "559/559 - 1s - loss: 0.0257 - accuracy: 0.9989 - val_loss: 0.0167 - val_accuracy: 0.9984\n",
      "Epoch 17/30\n",
      "559/559 - 1s - loss: 0.0217 - accuracy: 0.9987 - val_loss: 0.0139 - val_accuracy: 0.9984\n",
      "Epoch 18/30\n",
      "559/559 - 1s - loss: 0.0196 - accuracy: 0.9986 - val_loss: 0.0120 - val_accuracy: 0.9984\n",
      "Epoch 19/30\n",
      "559/559 - 0s - loss: 0.0165 - accuracy: 0.9986 - val_loss: 0.0105 - val_accuracy: 0.9984\n",
      "Epoch 20/30\n",
      "559/559 - 1s - loss: 0.0161 - accuracy: 0.9986 - val_loss: 0.0094 - val_accuracy: 0.9984\n",
      "Epoch 21/30\n",
      "559/559 - 1s - loss: 0.0157 - accuracy: 0.9987 - val_loss: 0.0087 - val_accuracy: 0.9984\n",
      "Epoch 22/30\n",
      "559/559 - 1s - loss: 0.0146 - accuracy: 0.9984 - val_loss: 0.0081 - val_accuracy: 0.9984\n",
      "Epoch 23/30\n",
      "559/559 - 1s - loss: 0.0140 - accuracy: 0.9984 - val_loss: 0.0076 - val_accuracy: 0.9984\n",
      "Epoch 24/30\n",
      "559/559 - 0s - loss: 0.0135 - accuracy: 0.9987 - val_loss: 0.0073 - val_accuracy: 0.9984\n",
      "Epoch 25/30\n",
      "559/559 - 0s - loss: 0.0114 - accuracy: 0.9987 - val_loss: 0.0070 - val_accuracy: 0.9984\n",
      "Epoch 26/30\n",
      "559/559 - 0s - loss: 0.0112 - accuracy: 0.9984 - val_loss: 0.0067 - val_accuracy: 0.9984\n",
      "Epoch 27/30\n",
      "559/559 - 0s - loss: 0.0124 - accuracy: 0.9984 - val_loss: 0.0065 - val_accuracy: 0.9984\n",
      "Epoch 28/30\n",
      "559/559 - 1s - loss: 0.0111 - accuracy: 0.9989 - val_loss: 0.0064 - val_accuracy: 0.9984\n",
      "Epoch 29/30\n",
      "559/559 - 0s - loss: 0.0105 - accuracy: 0.9986 - val_loss: 0.0063 - val_accuracy: 0.9984\n",
      "Epoch 30/30\n",
      "559/559 - 1s - loss: 0.0114 - accuracy: 0.9984 - val_loss: 0.0061 - val_accuracy: 0.9984\n"
     ]
    }
   ],
   "source": [
    "history = model.fit(x=scaled_train_samples, y=train_labels, validation_split=0.1, batch_size=10, epochs=30, shuffle=True, verbose=2)"
   ]
  },
  {
   "cell_type": "code",
   "execution_count": 16,
   "metadata": {},
   "outputs": [
    {
     "name": "stdout",
     "output_type": "stream",
     "text": [
      "dict_keys(['loss', 'accuracy', 'val_loss', 'val_accuracy'])\n"
     ]
    }
   ],
   "source": [
    "# list all data in history\n",
    "print(history.history.keys())"
   ]
  },
  {
   "cell_type": "code",
   "execution_count": 17,
   "metadata": {},
   "outputs": [
    {
     "data": {
      "image/png": "[encoded data removed]",
      "text/plain": [
       "<Figure size 432x288 with 1 Axes>"
      ]
     },
     "metadata": {
      "needs_background": "light"
     },
     "output_type": "display_data"
    }
   ],
   "source": [
    "# summarize history for accuracy\n",
    "plt.plot(history.history['accuracy'])\n",
    "plt.plot(history.history['val_accuracy'])\n",
    "plt.title('model accuracy')\n",
    "plt.ylabel('accuracy')\n",
    "plt.xlabel('epoch')\n",
    "plt.legend(['train', 'test'], loc='upper left')\n",
    "plt.show()"
   ]
  },
  {
   "cell_type": "code",
   "execution_count": 18,
   "metadata": {},
   "outputs": [
    {
     "data": {
      "image/png": "[encoded data removed]",
      "text/plain": [
       "<Figure size 432x288 with 1 Axes>"
      ]
     },
     "metadata": {
      "needs_background": "light"
     },
     "output_type": "display_data"
    }
   ],
   "source": [
    "# summarize history for loss\n",
    "plt.plot(history.history['loss'])\n",
    "plt.plot(history.history['val_loss'])\n",
    "plt.title('model loss')\n",
    "plt.ylabel('loss')\n",
    "plt.xlabel('epoch')\n",
    "plt.legend(['train', 'test'], loc='upper left')\n",
    "plt.show()"
   ]
  },
  {
   "cell_type": "code",
   "execution_count": null,
   "metadata": {},
   "outputs": [],
   "source": []
  },
  {
   "cell_type": "code",
   "execution_count": null,
   "metadata": {},
   "outputs": [],
   "source": []
  },
  {
   "cell_type": "code",
   "execution_count": null,
   "metadata": {},
   "outputs": [],
   "source": []
  },
  {
   "cell_type": "markdown",
   "metadata": {},
   "source": [
    "## Export Model"
   ]
  },
  {
   "cell_type": "code",
   "execution_count": 19,
   "metadata": {},
   "outputs": [
    {
     "name": "stdout",
     "output_type": "stream",
     "text": [
      "WARNING:tensorflow:From C:\\Users\\KAVINDA\\anaconda3\\lib\\site-packages\\tensorflow\\python\\training\\tracking\\tracking.py:111: Model.state_updates (from tensorflow.python.keras.engine.training) is deprecated and will be removed in a future version.\n",
      "Instructions for updating:\n",
      "This property should not be used in TensorFlow 2.0, as updates are applied automatically.\n",
      "WARNING:tensorflow:From C:\\Users\\KAVINDA\\anaconda3\\lib\\site-packages\\tensorflow\\python\\training\\tracking\\tracking.py:111: Layer.updates (from tensorflow.python.keras.engine.base_layer) is deprecated and will be removed in a future version.\n",
      "Instructions for updating:\n",
      "This property should not be used in TensorFlow 2.0, as updates are applied automatically.\n",
      "INFO:tensorflow:Assets written to: C:\\Users\\KAVINDA\\AppData\\Local\\Temp\\tmp78f4ki0m\\assets\n"
     ]
    },
    {
     "data": {
      "text/plain": [
       "3368"
      ]
     },
     "execution_count": 19,
     "metadata": {},
     "output_type": "execute_result"
    }
   ],
   "source": [
    "converter = lite.TFLiteConverter.from_keras_model(model)\n",
    "tfmodel = converter.convert()\n",
    "open(\"linear.tflite\", \"wb\").write(tfmodel)"
   ]
  },
  {
   "cell_type": "code",
   "execution_count": null,
   "metadata": {},
   "outputs": [],
   "source": []
  }
 ],
 "metadata": {
  "kernelspec": {
   "display_name": "Python 3",
   "language": "python",
   "name": "python3"
  },
  "language_info": {
   "codemirror_mode": {
    "name": "ipython",
    "version": 3
   },
   "file_extension": ".py",
   "mimetype": "text/x-python",
   "name": "python",
   "nbconvert_exporter": "python",
   "pygments_lexer": "ipython3",
   "version": "3.8.3"
  }
 },
 "nbformat": 4,
 "nbformat_minor": 4
}
