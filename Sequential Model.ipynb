{
 "cells": [
  {
   "cell_type": "markdown",
   "metadata": {},
   "source": [
    "# Using BLE RSSI Values to Classify Proximity with Deep Neural Networks"
   ]
  },
  {
   "cell_type": "markdown",
   "metadata": {},
   "source": [
    " "
   ]
  },
  {
   "cell_type": "code",
   "execution_count": 1,
   "metadata": {},
   "outputs": [],
   "source": [
    "import numpy as np\n",
    "import pandas as pd\n",
    "from random import randint\n",
    "from sklearn.utils import shuffle\n",
    "from sklearn.preprocessing import MinMaxScaler\n",
    "import visualkeras\n",
    "import matplotlib.pyplot as plt"
   ]
  },
  {
   "cell_type": "code",
   "execution_count": 2,
   "metadata": {},
   "outputs": [],
   "source": [
    "df = pd.read_csv(\"rssi_dataset_1.csv\")"
   ]
  },
  {
   "cell_type": "code",
   "execution_count": 3,
   "metadata": {},
   "outputs": [
    {
     "data": {
      "text/html": [
       "<div>\n",
       "<style scoped>\n",
       "    .dataframe tbody tr th:only-of-type {\n",
       "        vertical-align: middle;\n",
       "    }\n",
       "\n",
       "    .dataframe tbody tr th {\n",
       "        vertical-align: top;\n",
       "    }\n",
       "\n",
       "    .dataframe thead th {\n",
       "        text-align: right;\n",
       "    }\n",
       "</style>\n",
       "<table border=\"1\" class=\"dataframe\">\n",
       "  <thead>\n",
       "    <tr style=\"text-align: right;\">\n",
       "      <th></th>\n",
       "      <th>Unnamed: 0</th>\n",
       "      <th>rssi</th>\n",
       "      <th>target</th>\n",
       "    </tr>\n",
       "  </thead>\n",
       "  <tbody>\n",
       "    <tr>\n",
       "      <th>0</th>\n",
       "      <td>0</td>\n",
       "      <td>-68</td>\n",
       "      <td>1</td>\n",
       "    </tr>\n",
       "    <tr>\n",
       "      <th>1</th>\n",
       "      <td>1</td>\n",
       "      <td>-70</td>\n",
       "      <td>1</td>\n",
       "    </tr>\n",
       "    <tr>\n",
       "      <th>2</th>\n",
       "      <td>2</td>\n",
       "      <td>-74</td>\n",
       "      <td>1</td>\n",
       "    </tr>\n",
       "    <tr>\n",
       "      <th>3</th>\n",
       "      <td>3</td>\n",
       "      <td>-95</td>\n",
       "      <td>0</td>\n",
       "    </tr>\n",
       "    <tr>\n",
       "      <th>4</th>\n",
       "      <td>4</td>\n",
       "      <td>-95</td>\n",
       "      <td>0</td>\n",
       "    </tr>\n",
       "    <tr>\n",
       "      <th>...</th>\n",
       "      <td>...</td>\n",
       "      <td>...</td>\n",
       "      <td>...</td>\n",
       "    </tr>\n",
       "    <tr>\n",
       "      <th>6206</th>\n",
       "      <td>6206</td>\n",
       "      <td>-95</td>\n",
       "      <td>0</td>\n",
       "    </tr>\n",
       "    <tr>\n",
       "      <th>6207</th>\n",
       "      <td>6207</td>\n",
       "      <td>-66</td>\n",
       "      <td>1</td>\n",
       "    </tr>\n",
       "    <tr>\n",
       "      <th>6208</th>\n",
       "      <td>6208</td>\n",
       "      <td>-96</td>\n",
       "      <td>0</td>\n",
       "    </tr>\n",
       "    <tr>\n",
       "      <th>6209</th>\n",
       "      <td>6209</td>\n",
       "      <td>-69</td>\n",
       "      <td>1</td>\n",
       "    </tr>\n",
       "    <tr>\n",
       "      <th>6210</th>\n",
       "      <td>6210</td>\n",
       "      <td>-70</td>\n",
       "      <td>1</td>\n",
       "    </tr>\n",
       "  </tbody>\n",
       "</table>\n",
       "<p>6211 rows × 3 columns</p>\n",
       "</div>"
      ],
      "text/plain": [
       "      Unnamed: 0  rssi  target\n",
       "0              0   -68       1\n",
       "1              1   -70       1\n",
       "2              2   -74       1\n",
       "3              3   -95       0\n",
       "4              4   -95       0\n",
       "...          ...   ...     ...\n",
       "6206        6206   -95       0\n",
       "6207        6207   -66       1\n",
       "6208        6208   -96       0\n",
       "6209        6209   -69       1\n",
       "6210        6210   -70       1\n",
       "\n",
       "[6211 rows x 3 columns]"
      ]
     },
     "execution_count": 3,
     "metadata": {},
     "output_type": "execute_result"
    }
   ],
   "source": [
    "df"
   ]
  },
  {
   "cell_type": "code",
   "execution_count": 4,
   "metadata": {},
   "outputs": [],
   "source": [
    "train_labels = df['target']\n",
    "train_samples = df['rssi']"
   ]
  },
  {
   "cell_type": "code",
   "execution_count": 5,
   "metadata": {},
   "outputs": [],
   "source": [
    "train_labels = np.array(train_labels)\n",
    "train_samples = np.array(train_samples)"
   ]
  },
  {
   "cell_type": "code",
   "execution_count": 6,
   "metadata": {},
   "outputs": [],
   "source": [
    "# min max scale\n",
    "# scaler = MinMaxScaler(feature_range=(0,1))\n",
    "# scaled_train_samples = scaler.fit_transform(train_samples.reshape(-1,1))"
   ]
  },
  {
   "cell_type": "code",
   "execution_count": 7,
   "metadata": {},
   "outputs": [],
   "source": [
    "scaled_train_samples = train_samples.reshape(-1,1)"
   ]
  },
  {
   "cell_type": "code",
   "execution_count": 8,
   "metadata": {},
   "outputs": [
    {
     "name": "stdout",
     "output_type": "stream",
     "text": [
      "[[-68]\n",
      " [-70]\n",
      " [-74]\n",
      " ...\n",
      " [-96]\n",
      " [-69]\n",
      " [-70]]\n"
     ]
    }
   ],
   "source": [
    "print(scaled_train_samples)"
   ]
  },
  {
   "cell_type": "code",
   "execution_count": 9,
   "metadata": {},
   "outputs": [
    {
     "name": "stdout",
     "output_type": "stream",
     "text": [
      "[1 1 1 ... 0 1 1]\n"
     ]
    }
   ],
   "source": [
    "print(train_labels)"
   ]
  },
  {
   "cell_type": "markdown",
   "metadata": {},
   "source": [
    "## Simple tf.keras Sequential Model"
   ]
  },
  {
   "cell_type": "code",
   "execution_count": 10,
   "metadata": {},
   "outputs": [],
   "source": [
    "import tensorflow as tf\n",
    "from tensorflow import keras\n",
    "from tensorflow.keras.models import Sequential\n",
    "from tensorflow.keras.layers import Activation, Dense, Dropout\n",
    "from tensorflow.keras.optimizers import Adam\n",
    "from tensorflow.keras.metrics import categorical_crossentropy\n",
    "from tensorflow import lite"
   ]
  },
  {
   "cell_type": "code",
   "execution_count": 11,
   "metadata": {},
   "outputs": [
    {
     "name": "stdout",
     "output_type": "stream",
     "text": [
      "Avaialble:  0\n"
     ]
    }
   ],
   "source": [
    "physial_devices = tf.config.experimental.list_physical_devices('GPU')\n",
    "print(\"Avaialble: \", len(physial_devices))"
   ]
  },
  {
   "cell_type": "code",
   "execution_count": 12,
   "metadata": {},
   "outputs": [],
   "source": [
    "# model = Sequential([\n",
    "#     Dense(units=16, input_shape=(1,), activation='relu'), # first hidden layer - 16 neurons\n",
    "#     Dense(units=32, activation='relu'),\n",
    "#     Dense(units=2, activation='softmax')\n",
    "# ])"
   ]
  },
  {
   "cell_type": "code",
   "execution_count": 13,
   "metadata": {},
   "outputs": [],
   "source": [
    "model = Sequential([\n",
    "    Dense(units=128, input_shape=(1,), activation='relu'), # first hidden layer - 128 neurons\n",
    "    Dropout(rate =  0.25),\n",
    "    Dense(units=128, activation='relu'),\n",
    "    Dense(units=2, activation='softmax')\n",
    "])"
   ]
  },
  {
   "cell_type": "code",
   "execution_count": 14,
   "metadata": {},
   "outputs": [
    {
     "name": "stdout",
     "output_type": "stream",
     "text": [
      "Model: \"sequential\"\n",
      "_________________________________________________________________\n",
      "Layer (type)                 Output Shape              Param #   \n",
      "=================================================================\n",
      "dense (Dense)                (None, 128)               256       \n",
      "_________________________________________________________________\n",
      "dropout (Dropout)            (None, 128)               0         \n",
      "_________________________________________________________________\n",
      "dense_1 (Dense)              (None, 128)               16512     \n",
      "_________________________________________________________________\n",
      "dense_2 (Dense)              (None, 2)                 258       \n",
      "=================================================================\n",
      "Total params: 17,026\n",
      "Trainable params: 17,026\n",
      "Non-trainable params: 0\n",
      "_________________________________________________________________\n"
     ]
    }
   ],
   "source": [
    "model.summary()"
   ]
  },
  {
   "cell_type": "code",
   "execution_count": 15,
   "metadata": {},
   "outputs": [
    {
     "data": {
      "image/png": "[encoded data removed]",
      "text/plain": [
       "<PIL.Image.Image image mode=RGBA size=137x27 at 0x21047442280>"
      ]
     },
     "execution_count": 15,
     "metadata": {},
     "output_type": "execute_result"
    }
   ],
   "source": [
    "visualkeras.layered_view(model) "
   ]
  },
  {
   "cell_type": "code",
   "execution_count": 16,
   "metadata": {},
   "outputs": [],
   "source": [
    "model.compile(optimizer=Adam(learning_rate=0.0001), loss='sparse_categorical_crossentropy', metrics=['accuracy'])"
   ]
  },
  {
   "cell_type": "code",
   "execution_count": 17,
   "metadata": {},
   "outputs": [
    {
     "name": "stdout",
     "output_type": "stream",
     "text": [
      "Epoch 1/40\n",
      "559/559 - 1s - loss: 1.3438 - accuracy: 0.5110 - val_loss: 0.6769 - val_accuracy: 0.6495\n",
      "Epoch 2/40\n",
      "559/559 - 0s - loss: 0.8585 - accuracy: 0.5407 - val_loss: 0.6775 - val_accuracy: 0.3505\n",
      "Epoch 3/40\n",
      "559/559 - 0s - loss: 0.7919 - accuracy: 0.5378 - val_loss: 0.6422 - val_accuracy: 0.6495\n",
      "Epoch 4/40\n",
      "559/559 - 0s - loss: 0.7281 - accuracy: 0.5822 - val_loss: 0.6524 - val_accuracy: 0.6495\n",
      "Epoch 5/40\n",
      "559/559 - 0s - loss: 0.7196 - accuracy: 0.5820 - val_loss: 0.6172 - val_accuracy: 0.6495\n",
      "Epoch 6/40\n",
      "559/559 - 0s - loss: 0.6804 - accuracy: 0.6057 - val_loss: 0.6234 - val_accuracy: 0.9309\n",
      "Epoch 7/40\n",
      "559/559 - 0s - loss: 0.6560 - accuracy: 0.6327 - val_loss: 0.5941 - val_accuracy: 0.9984\n",
      "Epoch 8/40\n",
      "559/559 - 0s - loss: 0.6351 - accuracy: 0.6613 - val_loss: 0.5741 - val_accuracy: 1.0000\n",
      "Epoch 9/40\n",
      "559/559 - 0s - loss: 0.6081 - accuracy: 0.7055 - val_loss: 0.5637 - val_accuracy: 0.6495\n",
      "Epoch 10/40\n",
      "559/559 - 0s - loss: 0.5868 - accuracy: 0.7354 - val_loss: 0.5437 - val_accuracy: 1.0000\n",
      "Epoch 11/40\n",
      "559/559 - 0s - loss: 0.5730 - accuracy: 0.7615 - val_loss: 0.6042 - val_accuracy: 0.6495\n",
      "Epoch 12/40\n",
      "559/559 - 0s - loss: 0.5546 - accuracy: 0.7797 - val_loss: 0.5400 - val_accuracy: 0.6495\n",
      "Epoch 13/40\n",
      "559/559 - 0s - loss: 0.5326 - accuracy: 0.8082 - val_loss: 0.5094 - val_accuracy: 0.6495\n",
      "Epoch 14/40\n",
      "559/559 - 0s - loss: 0.5113 - accuracy: 0.8454 - val_loss: 0.4935 - val_accuracy: 0.6495\n",
      "Epoch 15/40\n",
      "559/559 - 0s - loss: 0.4832 - accuracy: 0.8896 - val_loss: 0.4684 - val_accuracy: 0.6495\n",
      "Epoch 16/40\n",
      "559/559 - 0s - loss: 0.4589 - accuracy: 0.9079 - val_loss: 0.5037 - val_accuracy: 0.6495\n",
      "Epoch 17/40\n",
      "559/559 - 0s - loss: 0.4215 - accuracy: 0.9368 - val_loss: 0.4258 - val_accuracy: 0.6495\n",
      "Epoch 18/40\n",
      "559/559 - 0s - loss: 0.3910 - accuracy: 0.9460 - val_loss: 0.3791 - val_accuracy: 0.7540\n",
      "Epoch 19/40\n",
      "559/559 - 0s - loss: 0.3530 - accuracy: 0.9651 - val_loss: 0.3507 - val_accuracy: 0.7540\n",
      "Epoch 20/40\n",
      "559/559 - 0s - loss: 0.3108 - accuracy: 0.9746 - val_loss: 0.2622 - val_accuracy: 0.9984\n",
      "Epoch 21/40\n",
      "559/559 - 0s - loss: 0.2695 - accuracy: 0.9803 - val_loss: 0.2273 - val_accuracy: 0.9984\n",
      "Epoch 22/40\n",
      "559/559 - 0s - loss: 0.2283 - accuracy: 0.9832 - val_loss: 0.2335 - val_accuracy: 1.0000\n",
      "Epoch 23/40\n",
      "559/559 - 0s - loss: 0.1885 - accuracy: 0.9871 - val_loss: 0.1432 - val_accuracy: 0.9984\n",
      "Epoch 24/40\n",
      "559/559 - 0s - loss: 0.1573 - accuracy: 0.9891 - val_loss: 0.1239 - val_accuracy: 0.9984\n",
      "Epoch 25/40\n",
      "559/559 - 0s - loss: 0.1295 - accuracy: 0.9902 - val_loss: 0.0869 - val_accuracy: 0.9984\n",
      "Epoch 26/40\n",
      "559/559 - 0s - loss: 0.1045 - accuracy: 0.9918 - val_loss: 0.0745 - val_accuracy: 0.9984\n",
      "Epoch 27/40\n",
      "559/559 - 0s - loss: 0.0862 - accuracy: 0.9921 - val_loss: 0.0524 - val_accuracy: 0.9984\n",
      "Epoch 28/40\n",
      "559/559 - 0s - loss: 0.0738 - accuracy: 0.9937 - val_loss: 0.0409 - val_accuracy: 0.9984\n",
      "Epoch 29/40\n",
      "559/559 - 0s - loss: 0.0612 - accuracy: 0.9932 - val_loss: 0.0313 - val_accuracy: 0.9984\n",
      "Epoch 30/40\n",
      "559/559 - 0s - loss: 0.0528 - accuracy: 0.9930 - val_loss: 0.0303 - val_accuracy: 0.9984\n",
      "Epoch 31/40\n",
      "559/559 - 0s - loss: 0.0434 - accuracy: 0.9952 - val_loss: 0.0218 - val_accuracy: 0.9984\n",
      "Epoch 32/40\n",
      "559/559 - 0s - loss: 0.0410 - accuracy: 0.9943 - val_loss: 0.0174 - val_accuracy: 0.9984\n",
      "Epoch 33/40\n",
      "559/559 - 0s - loss: 0.0354 - accuracy: 0.9953 - val_loss: 0.0178 - val_accuracy: 0.9984\n",
      "Epoch 34/40\n",
      "559/559 - 0s - loss: 0.0334 - accuracy: 0.9953 - val_loss: 0.0163 - val_accuracy: 0.9984\n",
      "Epoch 35/40\n",
      "559/559 - 0s - loss: 0.0291 - accuracy: 0.9953 - val_loss: 0.0128 - val_accuracy: 0.9984\n",
      "Epoch 36/40\n",
      "559/559 - 0s - loss: 0.0297 - accuracy: 0.9962 - val_loss: 0.0112 - val_accuracy: 0.9984\n",
      "Epoch 37/40\n",
      "559/559 - 0s - loss: 0.0254 - accuracy: 0.9964 - val_loss: 0.0104 - val_accuracy: 0.9984\n",
      "Epoch 38/40\n",
      "559/559 - 1s - loss: 0.0238 - accuracy: 0.9952 - val_loss: 0.0298 - val_accuracy: 0.9984\n",
      "Epoch 39/40\n",
      "559/559 - 0s - loss: 0.0253 - accuracy: 0.9961 - val_loss: 0.0100 - val_accuracy: 0.9984\n",
      "Epoch 40/40\n",
      "559/559 - 0s - loss: 0.0217 - accuracy: 0.9962 - val_loss: 0.0090 - val_accuracy: 0.9984\n"
     ]
    }
   ],
   "source": [
    "history = model.fit(x=scaled_train_samples, y=train_labels, validation_split=0.1, batch_size=10, epochs=40, shuffle=True, verbose=2)"
   ]
  },
  {
   "cell_type": "code",
   "execution_count": 18,
   "metadata": {},
   "outputs": [
    {
     "name": "stdout",
     "output_type": "stream",
     "text": [
      "dict_keys(['loss', 'accuracy', 'val_loss', 'val_accuracy'])\n"
     ]
    }
   ],
   "source": [
    "# list all data in history\n",
    "print(history.history.keys())"
   ]
  },
  {
   "cell_type": "code",
   "execution_count": 19,
   "metadata": {},
   "outputs": [
    {
     "data": {
      "image/png": "[encoded data removed]",
      "text/plain": [
       "<Figure size 432x288 with 1 Axes>"
      ]
     },
     "metadata": {
      "needs_background": "light"
     },
     "output_type": "display_data"
    }
   ],
   "source": [
    "# summarize history for accuracy\n",
    "plt.plot(history.history['accuracy'])\n",
    "plt.plot(history.history['val_accuracy'])\n",
    "plt.title('model accuracy')\n",
    "plt.ylabel('accuracy')\n",
    "plt.xlabel('epoch')\n",
    "plt.legend(['train', 'val'], loc='upper left')\n",
    "plt.savefig('plots/accuracy_2denselayers_hiddenlayersize128.png')\n",
    "plt.show()"
   ]
  },
  {
   "cell_type": "code",
   "execution_count": 20,
   "metadata": {},
   "outputs": [
    {
     "data": {
      "image/png": "[encoded data removed]",
      "text/plain": [
       "<Figure size 432x288 with 1 Axes>"
      ]
     },
     "metadata": {
      "needs_background": "light"
     },
     "output_type": "display_data"
    }
   ],
   "source": [
    "# summarize history for loss\n",
    "plt.plot(history.history['loss'])\n",
    "plt.plot(history.history['val_loss'])\n",
    "plt.title('model loss')\n",
    "plt.ylabel('loss')\n",
    "plt.xlabel('epoch')\n",
    "plt.legend(['train', 'val'], loc='upper left')\n",
    "plt.savefig('plots/loss_2denselayers_hiddenlayersize128.png')\n",
    "plt.show()"
   ]
  },
  {
   "cell_type": "code",
   "execution_count": null,
   "metadata": {},
   "outputs": [],
   "source": []
  },
  {
   "cell_type": "markdown",
   "metadata": {},
   "source": [
    "## Predict"
   ]
  },
  {
   "cell_type": "code",
   "execution_count": 21,
   "metadata": {},
   "outputs": [],
   "source": [
    "prediction = model.predict([-90], verbose=0)"
   ]
  },
  {
   "cell_type": "code",
   "execution_count": 22,
   "metadata": {},
   "outputs": [
    {
     "data": {
      "text/plain": [
       "array([[0.8501092 , 0.14989085]], dtype=float32)"
      ]
     },
     "execution_count": 22,
     "metadata": {},
     "output_type": "execute_result"
    }
   ],
   "source": [
    "prediction"
   ]
  },
  {
   "cell_type": "code",
   "execution_count": 23,
   "metadata": {},
   "outputs": [],
   "source": [
    "rounded_prediction = np.argmax(prediction, axis=-1)"
   ]
  },
  {
   "cell_type": "code",
   "execution_count": 24,
   "metadata": {},
   "outputs": [
    {
     "data": {
      "text/plain": [
       "array([0], dtype=int64)"
      ]
     },
     "execution_count": 24,
     "metadata": {},
     "output_type": "execute_result"
    }
   ],
   "source": [
    "rounded_prediction"
   ]
  },
  {
   "cell_type": "code",
   "execution_count": null,
   "metadata": {},
   "outputs": [],
   "source": []
  },
  {
   "cell_type": "markdown",
   "metadata": {},
   "source": [
    "## Export Model"
   ]
  },
  {
   "cell_type": "code",
   "execution_count": 25,
   "metadata": {},
   "outputs": [],
   "source": [
    "converter = lite.TFLiteConverter.from_keras_model(model)\n",
    "# tfmodel = converter.convert()\n",
    "# open(\"linear.tflite\", \"wb\").write(tfmodel)"
   ]
  },
  {
   "cell_type": "code",
   "execution_count": null,
   "metadata": {},
   "outputs": [],
   "source": []
  }
 ],
 "metadata": {
  "kernelspec": {
   "display_name": "Python 3",
   "language": "python",
   "name": "python3"
  },
  "language_info": {
   "codemirror_mode": {
    "name": "ipython",
    "version": 3
   },
   "file_extension": ".py",
   "mimetype": "text/x-python",
   "name": "python",
   "nbconvert_exporter": "python",
   "pygments_lexer": "ipython3",
   "version": "3.8.3"
  }
 },
 "nbformat": 4,
 "nbformat_minor": 4
}
