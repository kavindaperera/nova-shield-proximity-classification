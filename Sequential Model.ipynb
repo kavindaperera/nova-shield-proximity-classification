{
 "cells": [
  {
   "cell_type": "markdown",
   "metadata": {},
   "source": [
    "# Using BLE RSSI Values to Classify Proximity with Deep Neural Networks"
   ]
  },
  {
   "cell_type": "markdown",
   "metadata": {},
   "source": [
    " "
   ]
  },
  {
   "cell_type": "code",
   "execution_count": 1,
   "metadata": {},
   "outputs": [],
   "source": [
    "import numpy as np\n",
    "import pandas as pd\n",
    "from random import randint\n",
    "from sklearn.utils import shuffle\n",
    "from sklearn.preprocessing import MinMaxScaler\n",
    "import visualkeras\n",
    "import matplotlib.pyplot as plt"
   ]
  },
  {
   "cell_type": "code",
   "execution_count": 2,
   "metadata": {},
   "outputs": [],
   "source": [
    "model_name = '1denselayers_hiddenlayersize64'\n",
    "hidden_layer_size = 64"
   ]
  },
  {
   "cell_type": "code",
   "execution_count": 3,
   "metadata": {},
   "outputs": [],
   "source": [
    "df = pd.read_csv(\"rssi_dataset_3.csv\")"
   ]
  },
  {
   "cell_type": "code",
   "execution_count": 4,
   "metadata": {},
   "outputs": [
    {
     "data": {
      "text/html": [
       "<div>\n",
       "<style scoped>\n",
       "    .dataframe tbody tr th:only-of-type {\n",
       "        vertical-align: middle;\n",
       "    }\n",
       "\n",
       "    .dataframe tbody tr th {\n",
       "        vertical-align: top;\n",
       "    }\n",
       "\n",
       "    .dataframe thead th {\n",
       "        text-align: right;\n",
       "    }\n",
       "</style>\n",
       "<table border=\"1\" class=\"dataframe\">\n",
       "  <thead>\n",
       "    <tr style=\"text-align: right;\">\n",
       "      <th></th>\n",
       "      <th>Unnamed: 0</th>\n",
       "      <th>rssi</th>\n",
       "      <th>target</th>\n",
       "    </tr>\n",
       "  </thead>\n",
       "  <tbody>\n",
       "    <tr>\n",
       "      <th>0</th>\n",
       "      <td>0</td>\n",
       "      <td>-96</td>\n",
       "      <td>0</td>\n",
       "    </tr>\n",
       "    <tr>\n",
       "      <th>1</th>\n",
       "      <td>1</td>\n",
       "      <td>-69</td>\n",
       "      <td>1</td>\n",
       "    </tr>\n",
       "    <tr>\n",
       "      <th>2</th>\n",
       "      <td>2</td>\n",
       "      <td>-100</td>\n",
       "      <td>0</td>\n",
       "    </tr>\n",
       "    <tr>\n",
       "      <th>3</th>\n",
       "      <td>3</td>\n",
       "      <td>-97</td>\n",
       "      <td>0</td>\n",
       "    </tr>\n",
       "    <tr>\n",
       "      <th>4</th>\n",
       "      <td>4</td>\n",
       "      <td>-93</td>\n",
       "      <td>0</td>\n",
       "    </tr>\n",
       "    <tr>\n",
       "      <th>...</th>\n",
       "      <td>...</td>\n",
       "      <td>...</td>\n",
       "      <td>...</td>\n",
       "    </tr>\n",
       "    <tr>\n",
       "      <th>20451</th>\n",
       "      <td>20451</td>\n",
       "      <td>-73</td>\n",
       "      <td>1</td>\n",
       "    </tr>\n",
       "    <tr>\n",
       "      <th>20452</th>\n",
       "      <td>20452</td>\n",
       "      <td>-97</td>\n",
       "      <td>0</td>\n",
       "    </tr>\n",
       "    <tr>\n",
       "      <th>20453</th>\n",
       "      <td>20453</td>\n",
       "      <td>-87</td>\n",
       "      <td>0</td>\n",
       "    </tr>\n",
       "    <tr>\n",
       "      <th>20454</th>\n",
       "      <td>20454</td>\n",
       "      <td>-71</td>\n",
       "      <td>1</td>\n",
       "    </tr>\n",
       "    <tr>\n",
       "      <th>20455</th>\n",
       "      <td>20455</td>\n",
       "      <td>-87</td>\n",
       "      <td>0</td>\n",
       "    </tr>\n",
       "  </tbody>\n",
       "</table>\n",
       "<p>20456 rows × 3 columns</p>\n",
       "</div>"
      ],
      "text/plain": [
       "       Unnamed: 0  rssi  target\n",
       "0               0   -96       0\n",
       "1               1   -69       1\n",
       "2               2  -100       0\n",
       "3               3   -97       0\n",
       "4               4   -93       0\n",
       "...           ...   ...     ...\n",
       "20451       20451   -73       1\n",
       "20452       20452   -97       0\n",
       "20453       20453   -87       0\n",
       "20454       20454   -71       1\n",
       "20455       20455   -87       0\n",
       "\n",
       "[20456 rows x 3 columns]"
      ]
     },
     "execution_count": 4,
     "metadata": {},
     "output_type": "execute_result"
    }
   ],
   "source": [
    "df"
   ]
  },
  {
   "cell_type": "code",
   "execution_count": 5,
   "metadata": {},
   "outputs": [],
   "source": [
    "train_labels = df['target']\n",
    "train_samples = df['rssi']"
   ]
  },
  {
   "cell_type": "code",
   "execution_count": 6,
   "metadata": {},
   "outputs": [],
   "source": [
    "train_labels = np.array(train_labels)\n",
    "train_samples = np.array(train_samples)"
   ]
  },
  {
   "cell_type": "code",
   "execution_count": null,
   "metadata": {},
   "outputs": [],
   "source": []
  },
  {
   "cell_type": "code",
   "execution_count": 7,
   "metadata": {},
   "outputs": [],
   "source": [
    "scaled_train_samples = train_samples.reshape(-1,1)"
   ]
  },
  {
   "cell_type": "code",
   "execution_count": 8,
   "metadata": {},
   "outputs": [
    {
     "name": "stdout",
     "output_type": "stream",
     "text": [
      "[[ -96]\n",
      " [ -69]\n",
      " [-100]\n",
      " ...\n",
      " [ -87]\n",
      " [ -71]\n",
      " [ -87]]\n"
     ]
    }
   ],
   "source": [
    "print(scaled_train_samples)"
   ]
  },
  {
   "cell_type": "code",
   "execution_count": 9,
   "metadata": {},
   "outputs": [
    {
     "name": "stdout",
     "output_type": "stream",
     "text": [
      "[0 1 0 ... 0 1 0]\n"
     ]
    }
   ],
   "source": [
    "print(train_labels)"
   ]
  },
  {
   "cell_type": "markdown",
   "metadata": {},
   "source": [
    "## Simple tf.keras Sequential Model"
   ]
  },
  {
   "cell_type": "code",
   "execution_count": 10,
   "metadata": {},
   "outputs": [],
   "source": [
    "import tensorflow as tf\n",
    "from tensorflow import keras\n",
    "from tensorflow.keras.models import Sequential\n",
    "from tensorflow.keras.layers import Activation, Dense, Dropout, DenseFeatures\n",
    "from tensorflow.keras.optimizers import Adam\n",
    "from tensorflow.keras.metrics import categorical_crossentropy\n",
    "from tensorflow import lite\n",
    "from keras.utils import plot_model"
   ]
  },
  {
   "cell_type": "code",
   "execution_count": 11,
   "metadata": {},
   "outputs": [
    {
     "name": "stdout",
     "output_type": "stream",
     "text": [
      "Available:  0\n"
     ]
    }
   ],
   "source": [
    "physial_devices = tf.config.experimental.list_physical_devices('GPU')\n",
    "print(\"Available: \", len(physial_devices))"
   ]
  },
  {
   "cell_type": "code",
   "execution_count": 12,
   "metadata": {},
   "outputs": [],
   "source": [
    "model = Sequential([\n",
    "    Dense(units=hidden_layer_size, input_shape=(1,), activation='relu'),\n",
    "    Dropout(rate = 0.1),\n",
    "    Dense(units=2, activation='softmax')\n",
    "])"
   ]
  },
  {
   "cell_type": "code",
   "execution_count": 13,
   "metadata": {},
   "outputs": [
    {
     "name": "stdout",
     "output_type": "stream",
     "text": [
      "Model: \"sequential\"\n",
      "_________________________________________________________________\n",
      "Layer (type)                 Output Shape              Param #   \n",
      "=================================================================\n",
      "dense (Dense)                (None, 64)                128       \n",
      "_________________________________________________________________\n",
      "dropout (Dropout)            (None, 64)                0         \n",
      "_________________________________________________________________\n",
      "dense_1 (Dense)              (None, 2)                 130       \n",
      "=================================================================\n",
      "Total params: 258\n",
      "Trainable params: 258\n",
      "Non-trainable params: 0\n",
      "_________________________________________________________________\n"
     ]
    }
   ],
   "source": [
    "model.summary()"
   ]
  },
  {
   "cell_type": "code",
   "execution_count": 14,
   "metadata": {},
   "outputs": [
    {
     "data": {
      "image/png": "[encoded data removed]",
      "text/plain": [
       "<PIL.Image.Image image mode=RGBA size=107x27 at 0x2423C009DC0>"
      ]
     },
     "execution_count": 14,
     "metadata": {},
     "output_type": "execute_result"
    }
   ],
   "source": [
    "visualkeras.layered_view(model, to_file= 'visualkeras/' + model_name + '.png')"
   ]
  },
  {
   "cell_type": "code",
   "execution_count": 15,
   "metadata": {},
   "outputs": [],
   "source": [
    "model.compile(optimizer=Adam(learning_rate=0.0001), loss='sparse_categorical_crossentropy', metrics=['accuracy'])"
   ]
  },
  {
   "cell_type": "code",
   "execution_count": 16,
   "metadata": {},
   "outputs": [
    {
     "name": "stdout",
     "output_type": "stream",
     "text": [
      "Epoch 1/75\n",
      "1637/1637 - 1s - loss: 1.4122 - accuracy: 0.7257 - val_loss: 0.7711 - val_accuracy: 0.8170\n",
      "Epoch 2/75\n",
      "1637/1637 - 1s - loss: 0.9829 - accuracy: 0.7275 - val_loss: 0.5862 - val_accuracy: 0.8170\n",
      "Epoch 3/75\n",
      "1637/1637 - 1s - loss: 0.7367 - accuracy: 0.7449 - val_loss: 0.4404 - val_accuracy: 0.8170\n",
      "Epoch 4/75\n",
      "1637/1637 - 1s - loss: 0.5789 - accuracy: 0.7674 - val_loss: 0.4004 - val_accuracy: 0.8170\n",
      "Epoch 5/75\n",
      "1637/1637 - 1s - loss: 0.4894 - accuracy: 0.7887 - val_loss: 0.3927 - val_accuracy: 0.8170\n",
      "Epoch 6/75\n",
      "1637/1637 - 1s - loss: 0.4422 - accuracy: 0.8037 - val_loss: 0.3854 - val_accuracy: 0.8170\n",
      "Epoch 7/75\n",
      "1637/1637 - 1s - loss: 0.4144 - accuracy: 0.8076 - val_loss: 0.3791 - val_accuracy: 0.8170\n",
      "Epoch 8/75\n",
      "1637/1637 - 1s - loss: 0.4004 - accuracy: 0.8082 - val_loss: 0.3779 - val_accuracy: 0.8170\n",
      "Epoch 9/75\n",
      "1637/1637 - 1s - loss: 0.3860 - accuracy: 0.8081 - val_loss: 0.3614 - val_accuracy: 0.8170\n",
      "Epoch 10/75\n",
      "1637/1637 - 1s - loss: 0.3712 - accuracy: 0.8080 - val_loss: 0.3454 - val_accuracy: 0.8170\n",
      "Epoch 11/75\n",
      "1637/1637 - 1s - loss: 0.3529 - accuracy: 0.8081 - val_loss: 0.3255 - val_accuracy: 0.8170\n",
      "Epoch 12/75\n",
      "1637/1637 - 1s - loss: 0.3284 - accuracy: 0.8086 - val_loss: 0.2988 - val_accuracy: 0.8170\n",
      "Epoch 13/75\n",
      "1637/1637 - 1s - loss: 0.2967 - accuracy: 0.8123 - val_loss: 0.2656 - val_accuracy: 0.8170\n",
      "Epoch 14/75\n",
      "1637/1637 - 1s - loss: 0.2630 - accuracy: 0.8352 - val_loss: 0.2330 - val_accuracy: 0.8565\n",
      "Epoch 15/75\n",
      "1637/1637 - 1s - loss: 0.2297 - accuracy: 0.8887 - val_loss: 0.2000 - val_accuracy: 0.9279\n",
      "Epoch 16/75\n",
      "1637/1637 - 1s - loss: 0.1989 - accuracy: 0.9402 - val_loss: 0.1728 - val_accuracy: 0.9279\n",
      "Epoch 17/75\n",
      "1637/1637 - 1s - loss: 0.1698 - accuracy: 0.9718 - val_loss: 0.1432 - val_accuracy: 0.9914\n",
      "Epoch 18/75\n",
      "1637/1637 - 1s - loss: 0.1439 - accuracy: 0.9863 - val_loss: 0.1216 - val_accuracy: 0.9914\n",
      "Epoch 19/75\n",
      "1637/1637 - 1s - loss: 0.1228 - accuracy: 0.9914 - val_loss: 0.1019 - val_accuracy: 0.9983\n",
      "Epoch 20/75\n",
      "1637/1637 - 1s - loss: 0.1053 - accuracy: 0.9934 - val_loss: 0.0862 - val_accuracy: 0.9983\n",
      "Epoch 21/75\n",
      "1637/1637 - 1s - loss: 0.0906 - accuracy: 0.9946 - val_loss: 0.0732 - val_accuracy: 0.9983\n",
      "Epoch 22/75\n",
      "1637/1637 - 1s - loss: 0.0784 - accuracy: 0.9958 - val_loss: 0.0631 - val_accuracy: 0.9983\n",
      "Epoch 23/75\n",
      "1637/1637 - 1s - loss: 0.0691 - accuracy: 0.9958 - val_loss: 0.0554 - val_accuracy: 0.9983\n",
      "Epoch 24/75\n",
      "1637/1637 - 1s - loss: 0.0608 - accuracy: 0.9963 - val_loss: 0.0473 - val_accuracy: 0.9988\n",
      "Epoch 25/75\n",
      "1637/1637 - 1s - loss: 0.0544 - accuracy: 0.9966 - val_loss: 0.0416 - val_accuracy: 0.9988\n",
      "Epoch 26/75\n",
      "1637/1637 - 1s - loss: 0.0492 - accuracy: 0.9966 - val_loss: 0.0377 - val_accuracy: 0.9988\n",
      "Epoch 27/75\n",
      "1637/1637 - 1s - loss: 0.0451 - accuracy: 0.9971 - val_loss: 0.0347 - val_accuracy: 0.9988\n",
      "Epoch 28/75\n",
      "1637/1637 - 1s - loss: 0.0421 - accuracy: 0.9969 - val_loss: 0.0311 - val_accuracy: 0.9988\n",
      "Epoch 29/75\n",
      "1637/1637 - 1s - loss: 0.0396 - accuracy: 0.9968 - val_loss: 0.0296 - val_accuracy: 0.9983\n",
      "Epoch 30/75\n",
      "1637/1637 - 1s - loss: 0.0365 - accuracy: 0.9970 - val_loss: 0.0261 - val_accuracy: 0.9983\n",
      "Epoch 31/75\n",
      "1637/1637 - 1s - loss: 0.0339 - accuracy: 0.9974 - val_loss: 0.0243 - val_accuracy: 0.9988\n",
      "Epoch 32/75\n",
      "1637/1637 - 1s - loss: 0.0329 - accuracy: 0.9972 - val_loss: 0.0232 - val_accuracy: 0.9988\n",
      "Epoch 33/75\n",
      "1637/1637 - 2s - loss: 0.0304 - accuracy: 0.9976 - val_loss: 0.0217 - val_accuracy: 0.9983\n",
      "Epoch 34/75\n",
      "1637/1637 - 2s - loss: 0.0298 - accuracy: 0.9974 - val_loss: 0.0209 - val_accuracy: 0.9988\n",
      "Epoch 35/75\n",
      "1637/1637 - 1s - loss: 0.0287 - accuracy: 0.9974 - val_loss: 0.0191 - val_accuracy: 0.9988\n",
      "Epoch 36/75\n",
      "1637/1637 - 1s - loss: 0.0272 - accuracy: 0.9975 - val_loss: 0.0196 - val_accuracy: 0.9983\n",
      "Epoch 37/75\n",
      "1637/1637 - 1s - loss: 0.0266 - accuracy: 0.9971 - val_loss: 0.0193 - val_accuracy: 0.9993\n",
      "Epoch 38/75\n",
      "1637/1637 - 1s - loss: 0.0264 - accuracy: 0.9976 - val_loss: 0.0187 - val_accuracy: 0.9993\n",
      "Epoch 39/75\n",
      "1637/1637 - 1s - loss: 0.0244 - accuracy: 0.9975 - val_loss: 0.0156 - val_accuracy: 0.9988\n",
      "Epoch 40/75\n",
      "1637/1637 - 1s - loss: 0.0237 - accuracy: 0.9979 - val_loss: 0.0152 - val_accuracy: 0.9988\n",
      "Epoch 41/75\n",
      "1637/1637 - 1s - loss: 0.0242 - accuracy: 0.9974 - val_loss: 0.0268 - val_accuracy: 0.9995\n",
      "Epoch 42/75\n",
      "1637/1637 - 1s - loss: 0.0229 - accuracy: 0.9980 - val_loss: 0.0142 - val_accuracy: 0.9988\n",
      "Epoch 43/75\n",
      "1637/1637 - 1s - loss: 0.0227 - accuracy: 0.9975 - val_loss: 0.0145 - val_accuracy: 0.9993\n",
      "Epoch 44/75\n",
      "1637/1637 - 1s - loss: 0.0217 - accuracy: 0.9976 - val_loss: 0.0134 - val_accuracy: 0.9988\n",
      "Epoch 45/75\n",
      "1637/1637 - 1s - loss: 0.0211 - accuracy: 0.9977 - val_loss: 0.0142 - val_accuracy: 0.9983\n",
      "Epoch 46/75\n",
      "1637/1637 - 1s - loss: 0.0218 - accuracy: 0.9979 - val_loss: 0.0122 - val_accuracy: 0.9988\n",
      "Epoch 47/75\n",
      "1637/1637 - 1s - loss: 0.0207 - accuracy: 0.9978 - val_loss: 0.0118 - val_accuracy: 0.9988\n",
      "Epoch 48/75\n",
      "1637/1637 - 1s - loss: 0.0209 - accuracy: 0.9979 - val_loss: 0.0115 - val_accuracy: 0.9988\n",
      "Epoch 49/75\n",
      "1637/1637 - 1s - loss: 0.0199 - accuracy: 0.9979 - val_loss: 0.0112 - val_accuracy: 0.9988\n",
      "Epoch 50/75\n",
      "1637/1637 - 1s - loss: 0.0201 - accuracy: 0.9975 - val_loss: 0.0175 - val_accuracy: 0.9956\n",
      "Epoch 51/75\n",
      "1637/1637 - 1s - loss: 0.0196 - accuracy: 0.9979 - val_loss: 0.0113 - val_accuracy: 0.9993\n",
      "Epoch 52/75\n",
      "1637/1637 - 1s - loss: 0.0199 - accuracy: 0.9978 - val_loss: 0.0114 - val_accuracy: 0.9983\n",
      "Epoch 53/75\n",
      "1637/1637 - 1s - loss: 0.0185 - accuracy: 0.9980 - val_loss: 0.0102 - val_accuracy: 0.9988\n",
      "Epoch 54/75\n",
      "1637/1637 - 1s - loss: 0.0187 - accuracy: 0.9977 - val_loss: 0.0106 - val_accuracy: 0.9993\n",
      "Epoch 55/75\n",
      "1637/1637 - 1s - loss: 0.0198 - accuracy: 0.9979 - val_loss: 0.0110 - val_accuracy: 0.9988\n",
      "Epoch 56/75\n",
      "1637/1637 - 1s - loss: 0.0184 - accuracy: 0.9979 - val_loss: 0.0097 - val_accuracy: 0.9988\n",
      "Epoch 57/75\n",
      "1637/1637 - 1s - loss: 0.0180 - accuracy: 0.9980 - val_loss: 0.0096 - val_accuracy: 0.9988\n",
      "Epoch 58/75\n",
      "1637/1637 - 1s - loss: 0.0183 - accuracy: 0.9977 - val_loss: 0.0099 - val_accuracy: 0.9988\n",
      "Epoch 59/75\n",
      "1637/1637 - 1s - loss: 0.0182 - accuracy: 0.9980 - val_loss: 0.0093 - val_accuracy: 0.9988\n",
      "Epoch 60/75\n",
      "1637/1637 - 1s - loss: 0.0173 - accuracy: 0.9979 - val_loss: 0.0095 - val_accuracy: 0.9988\n",
      "Epoch 61/75\n",
      "1637/1637 - 1s - loss: 0.0183 - accuracy: 0.9979 - val_loss: 0.0101 - val_accuracy: 0.9993\n",
      "Epoch 62/75\n",
      "1637/1637 - 1s - loss: 0.0176 - accuracy: 0.9977 - val_loss: 0.0095 - val_accuracy: 0.9988\n",
      "Epoch 63/75\n",
      "1637/1637 - 1s - loss: 0.0176 - accuracy: 0.9979 - val_loss: 0.0090 - val_accuracy: 0.9988\n",
      "Epoch 64/75\n",
      "1637/1637 - 1s - loss: 0.0180 - accuracy: 0.9978 - val_loss: 0.0136 - val_accuracy: 0.9983\n",
      "Epoch 65/75\n",
      "1637/1637 - 1s - loss: 0.0169 - accuracy: 0.9978 - val_loss: 0.0089 - val_accuracy: 0.9988\n",
      "Epoch 66/75\n",
      "1637/1637 - 1s - loss: 0.0173 - accuracy: 0.9981 - val_loss: 0.0089 - val_accuracy: 0.9988\n",
      "Epoch 67/75\n",
      "1637/1637 - 1s - loss: 0.0176 - accuracy: 0.9979 - val_loss: 0.0093 - val_accuracy: 0.9983\n",
      "Epoch 68/75\n",
      "1637/1637 - 1s - loss: 0.0170 - accuracy: 0.9980 - val_loss: 0.0096 - val_accuracy: 0.9993\n",
      "Epoch 69/75\n",
      "1637/1637 - 1s - loss: 0.0173 - accuracy: 0.9980 - val_loss: 0.0110 - val_accuracy: 0.9983\n",
      "Epoch 70/75\n",
      "1637/1637 - 1s - loss: 0.0169 - accuracy: 0.9980 - val_loss: 0.0082 - val_accuracy: 0.9988\n",
      "Epoch 71/75\n",
      "1637/1637 - 1s - loss: 0.0171 - accuracy: 0.9979 - val_loss: 0.0085 - val_accuracy: 0.9988\n",
      "Epoch 72/75\n",
      "1637/1637 - 1s - loss: 0.0164 - accuracy: 0.9977 - val_loss: 0.0100 - val_accuracy: 0.9993\n",
      "Epoch 73/75\n",
      "1637/1637 - 1s - loss: 0.0166 - accuracy: 0.9981 - val_loss: 0.0086 - val_accuracy: 0.9988\n",
      "Epoch 74/75\n",
      "1637/1637 - 1s - loss: 0.0164 - accuracy: 0.9983 - val_loss: 0.0084 - val_accuracy: 0.9988\n",
      "Epoch 75/75\n",
      "1637/1637 - 1s - loss: 0.0173 - accuracy: 0.9981 - val_loss: 0.0095 - val_accuracy: 0.9993\n"
     ]
    }
   ],
   "source": [
    "history = model.fit(x=scaled_train_samples, y=train_labels, validation_split=0.2, batch_size=10, epochs=75, shuffle=True, verbose=2)"
   ]
  },
  {
   "cell_type": "code",
   "execution_count": 17,
   "metadata": {},
   "outputs": [
    {
     "name": "stdout",
     "output_type": "stream",
     "text": [
      "dict_keys(['loss', 'accuracy', 'val_loss', 'val_accuracy'])\n"
     ]
    }
   ],
   "source": [
    "# list all data in history\n",
    "print(history.history.keys())"
   ]
  },
  {
   "cell_type": "code",
   "execution_count": 18,
   "metadata": {},
   "outputs": [
    {
     "data": {
      "image/png": "[encoded data removed]",
      "text/plain": [
       "<Figure size 432x288 with 1 Axes>"
      ]
     },
     "metadata": {
      "needs_background": "light"
     },
     "output_type": "display_data"
    }
   ],
   "source": [
    "# summarize history for accuracy\n",
    "plt.plot(history.history['accuracy'])\n",
    "plt.plot(history.history['val_accuracy'])\n",
    "plt.title('model accuracy')\n",
    "plt.ylabel('accuracy')\n",
    "plt.xlabel('epoch')\n",
    "plt.legend(['train', 'val'], loc='upper left')\n",
    "plt.savefig('plots/accuracy_' + model_name + '.png')\n",
    "plt.show()"
   ]
  },
  {
   "cell_type": "code",
   "execution_count": 19,
   "metadata": {},
   "outputs": [
    {
     "data": {
      "image/png": "[encoded data removed]",
      "text/plain": [
       "<Figure size 432x288 with 1 Axes>"
      ]
     },
     "metadata": {
      "needs_background": "light"
     },
     "output_type": "display_data"
    }
   ],
   "source": [
    "# summarize history for loss\n",
    "plt.plot(history.history['loss'])\n",
    "plt.plot(history.history['val_loss'])\n",
    "plt.title('model loss')\n",
    "plt.ylabel('loss')\n",
    "plt.xlabel('epoch')\n",
    "# plt.ylim(.55 , .65)\n",
    "plt.legend(['train', 'val'], loc='upper left')\n",
    "plt.savefig('plots/loss_' + model_name + '.png')\n",
    "plt.show()"
   ]
  },
  {
   "cell_type": "code",
   "execution_count": null,
   "metadata": {},
   "outputs": [],
   "source": []
  },
  {
   "cell_type": "markdown",
   "metadata": {},
   "source": [
    "## Predict"
   ]
  },
  {
   "cell_type": "code",
   "execution_count": null,
   "metadata": {},
   "outputs": [],
   "source": []
  },
  {
   "cell_type": "markdown",
   "metadata": {},
   "source": [
    "## Export Model"
   ]
  },
  {
   "cell_type": "code",
   "execution_count": 20,
   "metadata": {},
   "outputs": [
    {
     "name": "stdout",
     "output_type": "stream",
     "text": [
      "WARNING:tensorflow:From C:\\Users\\KAVINDA\\anaconda3\\lib\\site-packages\\tensorflow\\python\\training\\tracking\\tracking.py:111: Model.state_updates (from tensorflow.python.keras.engine.training) is deprecated and will be removed in a future version.\n",
      "Instructions for updating:\n",
      "This property should not be used in TensorFlow 2.0, as updates are applied automatically.\n",
      "WARNING:tensorflow:From C:\\Users\\KAVINDA\\anaconda3\\lib\\site-packages\\tensorflow\\python\\training\\tracking\\tracking.py:111: Layer.updates (from tensorflow.python.keras.engine.base_layer) is deprecated and will be removed in a future version.\n",
      "Instructions for updating:\n",
      "This property should not be used in TensorFlow 2.0, as updates are applied automatically.\n",
      "INFO:tensorflow:Assets written to: C:\\Users\\KAVINDA\\AppData\\Local\\Temp\\tmpxj0t6hbj\\assets\n"
     ]
    },
    {
     "data": {
      "text/plain": [
       "2344"
      ]
     },
     "execution_count": 20,
     "metadata": {},
     "output_type": "execute_result"
    }
   ],
   "source": [
    "converter = lite.TFLiteConverter.from_keras_model(model)\n",
    "tfmodel = converter.convert()\n",
    "open(\"model_1_64.tflite\", \"wb\").write(tfmodel)"
   ]
  },
  {
   "cell_type": "code",
   "execution_count": null,
   "metadata": {},
   "outputs": [],
   "source": []
  }
 ],
 "metadata": {
  "kernelspec": {
   "display_name": "Python 3",
   "language": "python",
   "name": "python3"
  },
  "language_info": {
   "codemirror_mode": {
    "name": "ipython",
    "version": 3
   },
   "file_extension": ".py",
   "mimetype": "text/x-python",
   "name": "python",
   "nbconvert_exporter": "python",
   "pygments_lexer": "ipython3",
   "version": "3.8.3"
  }
 },
 "nbformat": 4,
 "nbformat_minor": 4
}
