{
 "cells": [
  {
   "cell_type": "markdown",
   "metadata": {},
   "source": [
    "# Using BLE RSSI Values to Classify Proximity with Deep Neural Networks"
   ]
  },
  {
   "cell_type": "markdown",
   "metadata": {},
   "source": [
    " "
   ]
  },
  {
   "cell_type": "code",
   "execution_count": 1,
   "metadata": {},
   "outputs": [],
   "source": [
    "import numpy as np\n",
    "import pandas as pd\n",
    "from random import randint\n",
    "from sklearn.utils import shuffle\n",
    "from sklearn.preprocessing import MinMaxScaler\n",
    "import visualkeras\n",
    "import matplotlib.pyplot as plt"
   ]
  },
  {
   "cell_type": "code",
   "execution_count": 2,
   "metadata": {},
   "outputs": [],
   "source": [
    "model_name = '1denselayers_hiddenlayersize64'"
   ]
  },
  {
   "cell_type": "code",
   "execution_count": 3,
   "metadata": {},
   "outputs": [],
   "source": [
    "df = pd.read_csv(\"rssi_dataset_2.csv\")"
   ]
  },
  {
   "cell_type": "code",
   "execution_count": 4,
   "metadata": {},
   "outputs": [
    {
     "data": {
      "text/html": [
       "<div>\n",
       "<style scoped>\n",
       "    .dataframe tbody tr th:only-of-type {\n",
       "        vertical-align: middle;\n",
       "    }\n",
       "\n",
       "    .dataframe tbody tr th {\n",
       "        vertical-align: top;\n",
       "    }\n",
       "\n",
       "    .dataframe thead th {\n",
       "        text-align: right;\n",
       "    }\n",
       "</style>\n",
       "<table border=\"1\" class=\"dataframe\">\n",
       "  <thead>\n",
       "    <tr style=\"text-align: right;\">\n",
       "      <th></th>\n",
       "      <th>Unnamed: 0</th>\n",
       "      <th>rssi</th>\n",
       "      <th>target</th>\n",
       "    </tr>\n",
       "  </thead>\n",
       "  <tbody>\n",
       "    <tr>\n",
       "      <th>0</th>\n",
       "      <td>0</td>\n",
       "      <td>-91</td>\n",
       "      <td>0</td>\n",
       "    </tr>\n",
       "    <tr>\n",
       "      <th>1</th>\n",
       "      <td>1</td>\n",
       "      <td>-81</td>\n",
       "      <td>0</td>\n",
       "    </tr>\n",
       "    <tr>\n",
       "      <th>2</th>\n",
       "      <td>2</td>\n",
       "      <td>-87</td>\n",
       "      <td>0</td>\n",
       "    </tr>\n",
       "    <tr>\n",
       "      <th>3</th>\n",
       "      <td>3</td>\n",
       "      <td>-82</td>\n",
       "      <td>1</td>\n",
       "    </tr>\n",
       "    <tr>\n",
       "      <th>4</th>\n",
       "      <td>4</td>\n",
       "      <td>-90</td>\n",
       "      <td>0</td>\n",
       "    </tr>\n",
       "    <tr>\n",
       "      <th>...</th>\n",
       "      <td>...</td>\n",
       "      <td>...</td>\n",
       "      <td>...</td>\n",
       "    </tr>\n",
       "    <tr>\n",
       "      <th>11283</th>\n",
       "      <td>11283</td>\n",
       "      <td>-96</td>\n",
       "      <td>0</td>\n",
       "    </tr>\n",
       "    <tr>\n",
       "      <th>11284</th>\n",
       "      <td>11284</td>\n",
       "      <td>-80</td>\n",
       "      <td>0</td>\n",
       "    </tr>\n",
       "    <tr>\n",
       "      <th>11285</th>\n",
       "      <td>11285</td>\n",
       "      <td>-78</td>\n",
       "      <td>1</td>\n",
       "    </tr>\n",
       "    <tr>\n",
       "      <th>11286</th>\n",
       "      <td>11286</td>\n",
       "      <td>-102</td>\n",
       "      <td>0</td>\n",
       "    </tr>\n",
       "    <tr>\n",
       "      <th>11287</th>\n",
       "      <td>11287</td>\n",
       "      <td>-88</td>\n",
       "      <td>0</td>\n",
       "    </tr>\n",
       "  </tbody>\n",
       "</table>\n",
       "<p>11288 rows × 3 columns</p>\n",
       "</div>"
      ],
      "text/plain": [
       "       Unnamed: 0  rssi  target\n",
       "0               0   -91       0\n",
       "1               1   -81       0\n",
       "2               2   -87       0\n",
       "3               3   -82       1\n",
       "4               4   -90       0\n",
       "...           ...   ...     ...\n",
       "11283       11283   -96       0\n",
       "11284       11284   -80       0\n",
       "11285       11285   -78       1\n",
       "11286       11286  -102       0\n",
       "11287       11287   -88       0\n",
       "\n",
       "[11288 rows x 3 columns]"
      ]
     },
     "execution_count": 4,
     "metadata": {},
     "output_type": "execute_result"
    }
   ],
   "source": [
    "df"
   ]
  },
  {
   "cell_type": "code",
   "execution_count": 5,
   "metadata": {},
   "outputs": [],
   "source": [
    "train_labels = df['target']\n",
    "train_samples = df['rssi']"
   ]
  },
  {
   "cell_type": "code",
   "execution_count": 6,
   "metadata": {},
   "outputs": [],
   "source": [
    "train_labels = np.array(train_labels)\n",
    "train_samples = np.array(train_samples)"
   ]
  },
  {
   "cell_type": "code",
   "execution_count": null,
   "metadata": {},
   "outputs": [],
   "source": []
  },
  {
   "cell_type": "code",
   "execution_count": 7,
   "metadata": {},
   "outputs": [],
   "source": [
    "scaled_train_samples = train_samples.reshape(-1,1)"
   ]
  },
  {
   "cell_type": "code",
   "execution_count": 8,
   "metadata": {},
   "outputs": [
    {
     "name": "stdout",
     "output_type": "stream",
     "text": [
      "[[ -91]\n",
      " [ -81]\n",
      " [ -87]\n",
      " ...\n",
      " [ -78]\n",
      " [-102]\n",
      " [ -88]]\n"
     ]
    }
   ],
   "source": [
    "print(scaled_train_samples)"
   ]
  },
  {
   "cell_type": "code",
   "execution_count": 9,
   "metadata": {},
   "outputs": [
    {
     "name": "stdout",
     "output_type": "stream",
     "text": [
      "[0 0 0 ... 1 0 0]\n"
     ]
    }
   ],
   "source": [
    "print(train_labels)"
   ]
  },
  {
   "cell_type": "markdown",
   "metadata": {},
   "source": [
    "## Simple tf.keras Sequential Model"
   ]
  },
  {
   "cell_type": "code",
   "execution_count": 10,
   "metadata": {},
   "outputs": [],
   "source": [
    "import tensorflow as tf\n",
    "from tensorflow import keras\n",
    "from tensorflow.keras.models import Sequential\n",
    "from tensorflow.keras.layers import Activation, Dense, Dropout, DenseFeatures\n",
    "from tensorflow.keras.optimizers import Adam\n",
    "from tensorflow.keras.metrics import categorical_crossentropy\n",
    "from tensorflow import lite\n",
    "from keras.utils import plot_model"
   ]
  },
  {
   "cell_type": "code",
   "execution_count": 11,
   "metadata": {},
   "outputs": [
    {
     "name": "stdout",
     "output_type": "stream",
     "text": [
      "Available:  0\n"
     ]
    }
   ],
   "source": [
    "physial_devices = tf.config.experimental.list_physical_devices('GPU')\n",
    "print(\"Available: \", len(physial_devices))"
   ]
  },
  {
   "cell_type": "code",
   "execution_count": 12,
   "metadata": {},
   "outputs": [],
   "source": [
    "model = Sequential([\n",
    "    Dense(units=64, input_shape=(1,), activation='relu'),\n",
    "    Dropout(rate = 0.1),\n",
    "    Dense(units=2, activation='softmax')\n",
    "])"
   ]
  },
  {
   "cell_type": "code",
   "execution_count": 13,
   "metadata": {},
   "outputs": [
    {
     "name": "stdout",
     "output_type": "stream",
     "text": [
      "Model: \"sequential\"\n",
      "_________________________________________________________________\n",
      "Layer (type)                 Output Shape              Param #   \n",
      "=================================================================\n",
      "dense (Dense)                (None, 64)                128       \n",
      "_________________________________________________________________\n",
      "dropout (Dropout)            (None, 64)                0         \n",
      "_________________________________________________________________\n",
      "dense_1 (Dense)              (None, 2)                 130       \n",
      "=================================================================\n",
      "Total params: 258\n",
      "Trainable params: 258\n",
      "Non-trainable params: 0\n",
      "_________________________________________________________________\n"
     ]
    }
   ],
   "source": [
    "model.summary()"
   ]
  },
  {
   "cell_type": "code",
   "execution_count": 14,
   "metadata": {},
   "outputs": [
    {
     "data": {
      "image/png": "[encoded data removed]",
      "text/plain": [
       "<PIL.Image.Image image mode=RGBA size=107x27 at 0x1E15495AA30>"
      ]
     },
     "execution_count": 14,
     "metadata": {},
     "output_type": "execute_result"
    }
   ],
   "source": [
    "visualkeras.layered_view(model, to_file= 'visualkeras/' + model_name + '.png')"
   ]
  },
  {
   "cell_type": "code",
   "execution_count": 15,
   "metadata": {},
   "outputs": [],
   "source": [
    "model.compile(optimizer=Adam(learning_rate=0.0001), loss='sparse_categorical_crossentropy', metrics=['accuracy'])"
   ]
  },
  {
   "cell_type": "code",
   "execution_count": 16,
   "metadata": {},
   "outputs": [
    {
     "name": "stdout",
     "output_type": "stream",
     "text": [
      "Epoch 1/75\n",
      "903/903 - 1s - loss: 2.5240 - accuracy: 0.5971 - val_loss: 0.7560 - val_accuracy: 0.6980\n",
      "Epoch 2/75\n",
      "903/903 - 0s - loss: 2.0749 - accuracy: 0.6017 - val_loss: 0.7732 - val_accuracy: 0.6980\n",
      "Epoch 3/75\n",
      "903/903 - 1s - loss: 1.7814 - accuracy: 0.6044 - val_loss: 0.7115 - val_accuracy: 0.6980\n",
      "Epoch 4/75\n",
      "903/903 - 1s - loss: 1.5295 - accuracy: 0.6039 - val_loss: 0.7633 - val_accuracy: 0.6980\n",
      "Epoch 5/75\n",
      "903/903 - 1s - loss: 1.3194 - accuracy: 0.6043 - val_loss: 0.6978 - val_accuracy: 0.6980\n",
      "Epoch 6/75\n",
      "903/903 - 1s - loss: 1.1065 - accuracy: 0.6133 - val_loss: 0.6361 - val_accuracy: 0.6980\n",
      "Epoch 7/75\n",
      "903/903 - 1s - loss: 0.9574 - accuracy: 0.6271 - val_loss: 0.6498 - val_accuracy: 0.6980\n",
      "Epoch 8/75\n",
      "903/903 - 1s - loss: 0.8805 - accuracy: 0.6247 - val_loss: 0.6115 - val_accuracy: 0.6980\n",
      "Epoch 9/75\n",
      "903/903 - 0s - loss: 0.7808 - accuracy: 0.6320 - val_loss: 0.6028 - val_accuracy: 0.6980\n",
      "Epoch 10/75\n",
      "903/903 - 1s - loss: 0.7151 - accuracy: 0.6440 - val_loss: 0.5968 - val_accuracy: 0.6980\n",
      "Epoch 11/75\n",
      "903/903 - 0s - loss: 0.6647 - accuracy: 0.6652 - val_loss: 0.5968 - val_accuracy: 0.6980\n",
      "Epoch 12/75\n",
      "903/903 - 1s - loss: 0.6389 - accuracy: 0.6786 - val_loss: 0.5969 - val_accuracy: 0.6980\n",
      "Epoch 13/75\n",
      "903/903 - 1s - loss: 0.6245 - accuracy: 0.6927 - val_loss: 0.5963 - val_accuracy: 0.6980\n",
      "Epoch 14/75\n",
      "903/903 - 1s - loss: 0.6094 - accuracy: 0.6981 - val_loss: 0.5961 - val_accuracy: 0.6980\n",
      "Epoch 15/75\n",
      "903/903 - 0s - loss: 0.6051 - accuracy: 0.7014 - val_loss: 0.5961 - val_accuracy: 0.6980\n",
      "Epoch 16/75\n",
      "903/903 - 0s - loss: 0.6006 - accuracy: 0.7038 - val_loss: 0.5972 - val_accuracy: 0.6980\n",
      "Epoch 17/75\n",
      "903/903 - 0s - loss: 0.5985 - accuracy: 0.7053 - val_loss: 0.5956 - val_accuracy: 0.6980\n",
      "Epoch 18/75\n",
      "903/903 - 0s - loss: 0.5954 - accuracy: 0.7054 - val_loss: 0.5966 - val_accuracy: 0.6980\n",
      "Epoch 19/75\n",
      "903/903 - 0s - loss: 0.5951 - accuracy: 0.7056 - val_loss: 0.5948 - val_accuracy: 0.6980\n",
      "Epoch 20/75\n",
      "903/903 - 0s - loss: 0.5918 - accuracy: 0.7056 - val_loss: 0.5947 - val_accuracy: 0.6980\n",
      "Epoch 21/75\n",
      "903/903 - 1s - loss: 0.5917 - accuracy: 0.7056 - val_loss: 0.5967 - val_accuracy: 0.6980\n",
      "Epoch 22/75\n",
      "903/903 - 1s - loss: 0.5898 - accuracy: 0.7056 - val_loss: 0.5978 - val_accuracy: 0.6980\n",
      "Epoch 23/75\n",
      "903/903 - 1s - loss: 0.5910 - accuracy: 0.7056 - val_loss: 0.5939 - val_accuracy: 0.6980\n",
      "Epoch 24/75\n",
      "903/903 - 1s - loss: 0.5891 - accuracy: 0.7056 - val_loss: 0.5934 - val_accuracy: 0.6980\n",
      "Epoch 25/75\n",
      "903/903 - 0s - loss: 0.5885 - accuracy: 0.7056 - val_loss: 0.5935 - val_accuracy: 0.6980\n",
      "Epoch 26/75\n",
      "903/903 - 1s - loss: 0.5895 - accuracy: 0.7056 - val_loss: 0.5941 - val_accuracy: 0.6980\n",
      "Epoch 27/75\n",
      "903/903 - 0s - loss: 0.5881 - accuracy: 0.7056 - val_loss: 0.5981 - val_accuracy: 0.6980\n",
      "Epoch 28/75\n",
      "903/903 - 0s - loss: 0.5879 - accuracy: 0.7056 - val_loss: 0.5919 - val_accuracy: 0.6980\n",
      "Epoch 29/75\n",
      "903/903 - 0s - loss: 0.5863 - accuracy: 0.7056 - val_loss: 0.5915 - val_accuracy: 0.6980\n",
      "Epoch 30/75\n",
      "903/903 - 0s - loss: 0.5869 - accuracy: 0.7056 - val_loss: 0.5952 - val_accuracy: 0.6980\n",
      "Epoch 31/75\n",
      "903/903 - 0s - loss: 0.5869 - accuracy: 0.7056 - val_loss: 0.5909 - val_accuracy: 0.6980\n",
      "Epoch 32/75\n",
      "903/903 - 0s - loss: 0.5853 - accuracy: 0.7056 - val_loss: 0.5914 - val_accuracy: 0.6980\n",
      "Epoch 33/75\n",
      "903/903 - 0s - loss: 0.5861 - accuracy: 0.7056 - val_loss: 0.5905 - val_accuracy: 0.6980\n",
      "Epoch 34/75\n",
      "903/903 - 0s - loss: 0.5841 - accuracy: 0.7056 - val_loss: 0.5921 - val_accuracy: 0.6980\n",
      "Epoch 35/75\n",
      "903/903 - 0s - loss: 0.5840 - accuracy: 0.7056 - val_loss: 0.5936 - val_accuracy: 0.6980\n",
      "Epoch 36/75\n",
      "903/903 - 0s - loss: 0.5834 - accuracy: 0.7056 - val_loss: 0.5885 - val_accuracy: 0.6980\n",
      "Epoch 37/75\n",
      "903/903 - 0s - loss: 0.5830 - accuracy: 0.7056 - val_loss: 0.5937 - val_accuracy: 0.6980\n",
      "Epoch 38/75\n",
      "903/903 - 1s - loss: 0.5824 - accuracy: 0.7056 - val_loss: 0.5872 - val_accuracy: 0.6980\n",
      "Epoch 39/75\n",
      "903/903 - 0s - loss: 0.5823 - accuracy: 0.7056 - val_loss: 0.5890 - val_accuracy: 0.6980\n",
      "Epoch 40/75\n",
      "903/903 - 0s - loss: 0.5811 - accuracy: 0.7056 - val_loss: 0.5869 - val_accuracy: 0.6980\n",
      "Epoch 41/75\n",
      "903/903 - 0s - loss: 0.5806 - accuracy: 0.7056 - val_loss: 0.5850 - val_accuracy: 0.6980\n",
      "Epoch 42/75\n",
      "903/903 - 0s - loss: 0.5804 - accuracy: 0.7056 - val_loss: 0.5849 - val_accuracy: 0.6980\n",
      "Epoch 43/75\n",
      "903/903 - 0s - loss: 0.5800 - accuracy: 0.7056 - val_loss: 0.5843 - val_accuracy: 0.6980\n",
      "Epoch 44/75\n",
      "903/903 - 0s - loss: 0.5801 - accuracy: 0.7056 - val_loss: 0.5861 - val_accuracy: 0.6980\n",
      "Epoch 45/75\n",
      "903/903 - 1s - loss: 0.5782 - accuracy: 0.7056 - val_loss: 0.5857 - val_accuracy: 0.6980\n",
      "Epoch 46/75\n",
      "903/903 - 1s - loss: 0.5771 - accuracy: 0.7056 - val_loss: 0.5824 - val_accuracy: 0.6980\n",
      "Epoch 47/75\n",
      "903/903 - 0s - loss: 0.5767 - accuracy: 0.7056 - val_loss: 0.5833 - val_accuracy: 0.6980\n",
      "Epoch 48/75\n",
      "903/903 - 1s - loss: 0.5764 - accuracy: 0.7056 - val_loss: 0.5804 - val_accuracy: 0.6980\n",
      "Epoch 49/75\n",
      "903/903 - 0s - loss: 0.5756 - accuracy: 0.7058 - val_loss: 0.5801 - val_accuracy: 0.6980\n",
      "Epoch 50/75\n",
      "903/903 - 0s - loss: 0.5757 - accuracy: 0.7056 - val_loss: 0.5802 - val_accuracy: 0.6980\n",
      "Epoch 51/75\n",
      "903/903 - 0s - loss: 0.5746 - accuracy: 0.7056 - val_loss: 0.5786 - val_accuracy: 0.6980\n",
      "Epoch 52/75\n",
      "903/903 - 0s - loss: 0.5735 - accuracy: 0.7056 - val_loss: 0.5772 - val_accuracy: 0.6980\n",
      "Epoch 53/75\n",
      "903/903 - 0s - loss: 0.5732 - accuracy: 0.7058 - val_loss: 0.5794 - val_accuracy: 0.6980\n",
      "Epoch 54/75\n",
      "903/903 - 0s - loss: 0.5712 - accuracy: 0.7058 - val_loss: 0.5783 - val_accuracy: 0.6980\n",
      "Epoch 55/75\n",
      "903/903 - 1s - loss: 0.5709 - accuracy: 0.7058 - val_loss: 0.5755 - val_accuracy: 0.6980\n",
      "Epoch 56/75\n",
      "903/903 - 0s - loss: 0.5704 - accuracy: 0.7061 - val_loss: 0.5749 - val_accuracy: 0.6980\n",
      "Epoch 57/75\n",
      "903/903 - 0s - loss: 0.5701 - accuracy: 0.7060 - val_loss: 0.5736 - val_accuracy: 0.6980\n",
      "Epoch 58/75\n",
      "903/903 - 0s - loss: 0.5684 - accuracy: 0.7055 - val_loss: 0.5739 - val_accuracy: 0.6980\n",
      "Epoch 59/75\n",
      "903/903 - 0s - loss: 0.5685 - accuracy: 0.7059 - val_loss: 0.5801 - val_accuracy: 0.6980\n",
      "Epoch 60/75\n",
      "903/903 - 0s - loss: 0.5674 - accuracy: 0.7062 - val_loss: 0.5707 - val_accuracy: 0.6980\n",
      "Epoch 61/75\n",
      "903/903 - 0s - loss: 0.5661 - accuracy: 0.7066 - val_loss: 0.5723 - val_accuracy: 0.6980\n",
      "Epoch 62/75\n",
      "903/903 - 0s - loss: 0.5643 - accuracy: 0.7078 - val_loss: 0.5706 - val_accuracy: 0.6980\n",
      "Epoch 63/75\n",
      "903/903 - 0s - loss: 0.5654 - accuracy: 0.7075 - val_loss: 0.5693 - val_accuracy: 0.6980\n",
      "Epoch 64/75\n",
      "903/903 - 0s - loss: 0.5650 - accuracy: 0.7075 - val_loss: 0.5783 - val_accuracy: 0.6980\n",
      "Epoch 65/75\n",
      "903/903 - 0s - loss: 0.5629 - accuracy: 0.7070 - val_loss: 0.5691 - val_accuracy: 0.7019\n",
      "Epoch 66/75\n",
      "903/903 - 0s - loss: 0.5615 - accuracy: 0.7090 - val_loss: 0.5673 - val_accuracy: 0.6980\n",
      "Epoch 67/75\n",
      "903/903 - 1s - loss: 0.5623 - accuracy: 0.7073 - val_loss: 0.5726 - val_accuracy: 0.6980\n",
      "Epoch 68/75\n",
      "903/903 - 1s - loss: 0.5608 - accuracy: 0.7096 - val_loss: 0.5734 - val_accuracy: 0.6980\n",
      "Epoch 69/75\n",
      "903/903 - 1s - loss: 0.5604 - accuracy: 0.7089 - val_loss: 0.5644 - val_accuracy: 0.7055\n",
      "Epoch 70/75\n",
      "903/903 - 1s - loss: 0.5605 - accuracy: 0.7089 - val_loss: 0.5637 - val_accuracy: 0.7019\n",
      "Epoch 71/75\n",
      "903/903 - 1s - loss: 0.5588 - accuracy: 0.7117 - val_loss: 0.5626 - val_accuracy: 0.7055\n",
      "Epoch 72/75\n",
      "903/903 - 0s - loss: 0.5586 - accuracy: 0.7121 - val_loss: 0.5645 - val_accuracy: 0.6988\n",
      "Epoch 73/75\n",
      "903/903 - 0s - loss: 0.5575 - accuracy: 0.7130 - val_loss: 0.5634 - val_accuracy: 0.6997\n",
      "Epoch 74/75\n",
      "903/903 - 0s - loss: 0.5582 - accuracy: 0.7144 - val_loss: 0.5618 - val_accuracy: 0.7201\n",
      "Epoch 75/75\n",
      "903/903 - 0s - loss: 0.5583 - accuracy: 0.7146 - val_loss: 0.5619 - val_accuracy: 0.7241\n"
     ]
    }
   ],
   "source": [
    "history = model.fit(x=scaled_train_samples, y=train_labels, validation_split=0.2, batch_size=10, epochs=75, shuffle=True, verbose=2)"
   ]
  },
  {
   "cell_type": "code",
   "execution_count": 17,
   "metadata": {},
   "outputs": [
    {
     "name": "stdout",
     "output_type": "stream",
     "text": [
      "dict_keys(['loss', 'accuracy', 'val_loss', 'val_accuracy'])\n"
     ]
    }
   ],
   "source": [
    "# list all data in history\n",
    "print(history.history.keys())"
   ]
  },
  {
   "cell_type": "code",
   "execution_count": 18,
   "metadata": {},
   "outputs": [
    {
     "data": {
      "image/png": "[encoded data removed]",
      "text/plain": [
       "<Figure size 432x288 with 1 Axes>"
      ]
     },
     "metadata": {
      "needs_background": "light"
     },
     "output_type": "display_data"
    }
   ],
   "source": [
    "# summarize history for accuracy\n",
    "plt.plot(history.history['accuracy'])\n",
    "plt.plot(history.history['val_accuracy'])\n",
    "plt.title('model accuracy')\n",
    "plt.ylabel('accuracy')\n",
    "plt.xlabel('epoch')\n",
    "plt.legend(['train', 'val'], loc='upper left')\n",
    "plt.savefig('plots/accuracy_' + model_name + '.png')\n",
    "plt.show()"
   ]
  },
  {
   "cell_type": "code",
   "execution_count": 25,
   "metadata": {},
   "outputs": [
    {
     "data": {
      "image/png": "[encoded data removed]",
      "text/plain": [
       "<Figure size 432x288 with 1 Axes>"
      ]
     },
     "metadata": {
      "needs_background": "light"
     },
     "output_type": "display_data"
    }
   ],
   "source": [
    "# summarize history for loss\n",
    "plt.plot(history.history['loss'])\n",
    "plt.plot(history.history['val_loss'])\n",
    "plt.title('model loss')\n",
    "plt.ylabel('loss')\n",
    "plt.xlabel('epoch')\n",
    "# plt.ylim(.55 , .65)\n",
    "plt.legend(['train', 'val'], loc='upper left')\n",
    "plt.savefig('plots/loss_' + model_name + '.png')\n",
    "plt.show()"
   ]
  },
  {
   "cell_type": "code",
   "execution_count": null,
   "metadata": {},
   "outputs": [],
   "source": []
  },
  {
   "cell_type": "markdown",
   "metadata": {},
   "source": [
    "## Predict"
   ]
  },
  {
   "cell_type": "code",
   "execution_count": null,
   "metadata": {},
   "outputs": [],
   "source": []
  },
  {
   "cell_type": "markdown",
   "metadata": {},
   "source": [
    "## Export Model"
   ]
  },
  {
   "cell_type": "code",
   "execution_count": 26,
   "metadata": {},
   "outputs": [
    {
     "name": "stdout",
     "output_type": "stream",
     "text": [
      "WARNING:tensorflow:From C:\\Users\\KAVINDA\\anaconda3\\lib\\site-packages\\tensorflow\\python\\training\\tracking\\tracking.py:111: Model.state_updates (from tensorflow.python.keras.engine.training) is deprecated and will be removed in a future version.\n",
      "Instructions for updating:\n",
      "This property should not be used in TensorFlow 2.0, as updates are applied automatically.\n",
      "WARNING:tensorflow:From C:\\Users\\KAVINDA\\anaconda3\\lib\\site-packages\\tensorflow\\python\\training\\tracking\\tracking.py:111: Layer.updates (from tensorflow.python.keras.engine.base_layer) is deprecated and will be removed in a future version.\n",
      "Instructions for updating:\n",
      "This property should not be used in TensorFlow 2.0, as updates are applied automatically.\n",
      "INFO:tensorflow:Assets written to: C:\\Users\\KAVINDA\\AppData\\Local\\Temp\\tmpu7cumrxk\\assets\n"
     ]
    },
    {
     "data": {
      "text/plain": [
       "2344"
      ]
     },
     "execution_count": 26,
     "metadata": {},
     "output_type": "execute_result"
    }
   ],
   "source": [
    "converter = lite.TFLiteConverter.from_keras_model(model)\n",
    "tfmodel = converter.convert()\n",
    "open(\"model_1_64.tflite\", \"wb\").write(tfmodel)"
   ]
  },
  {
   "cell_type": "code",
   "execution_count": null,
   "metadata": {},
   "outputs": [],
   "source": []
  }
 ],
 "metadata": {
  "kernelspec": {
   "display_name": "Python 3",
   "language": "python",
   "name": "python3"
  },
  "language_info": {
   "codemirror_mode": {
    "name": "ipython",
    "version": 3
   },
   "file_extension": ".py",
   "mimetype": "text/x-python",
   "name": "python",
   "nbconvert_exporter": "python",
   "pygments_lexer": "ipython3",
   "version": "3.8.3"
  }
 },
 "nbformat": 4,
 "nbformat_minor": 4
}
